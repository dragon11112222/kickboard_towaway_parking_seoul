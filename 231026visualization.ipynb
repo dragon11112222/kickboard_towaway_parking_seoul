{
 "cells": [
  {
   "cell_type": "code",
   "execution_count": 2,
   "metadata": {},
   "outputs": [],
   "source": [
    "import pandas as pd\n",
    "\n",
    "df2308 = pd.read_csv('data/서울특별시_전동킥보드_견인_현황_20230831.csv', encoding = 'cp949')"
   ]
  },
  {
   "cell_type": "code",
   "execution_count": 3,
   "metadata": {},
   "outputs": [
    {
     "data": {
      "text/html": [
       "<div>\n",
       "<style scoped>\n",
       "    .dataframe tbody tr th:only-of-type {\n",
       "        vertical-align: middle;\n",
       "    }\n",
       "\n",
       "    .dataframe tbody tr th {\n",
       "        vertical-align: top;\n",
       "    }\n",
       "\n",
       "    .dataframe thead th {\n",
       "        text-align: right;\n",
       "    }\n",
       "</style>\n",
       "<table border=\"1\" class=\"dataframe\">\n",
       "  <thead>\n",
       "    <tr style=\"text-align: right;\">\n",
       "      <th></th>\n",
       "      <th>번호</th>\n",
       "      <th>신고일</th>\n",
       "      <th>구정보</th>\n",
       "      <th>주소</th>\n",
       "      <th>유형</th>\n",
       "      <th>조치일</th>\n",
       "    </tr>\n",
       "  </thead>\n",
       "  <tbody>\n",
       "    <tr>\n",
       "      <th>0</th>\n",
       "      <td>1</td>\n",
       "      <td>2021-07-15</td>\n",
       "      <td>영등포구</td>\n",
       "      <td>서울특별시 영등포구 여의도동 84-10</td>\n",
       "      <td>보도와 차도가 구분된 도로의 차도</td>\n",
       "      <td>2021-07-15</td>\n",
       "    </tr>\n",
       "    <tr>\n",
       "      <th>1</th>\n",
       "      <td>2</td>\n",
       "      <td>2021-07-15</td>\n",
       "      <td>영등포구</td>\n",
       "      <td>서울특별시 영등포구 영등포동1가 97-4</td>\n",
       "      <td>보도 중앙</td>\n",
       "      <td>2021-07-15</td>\n",
       "    </tr>\n",
       "    <tr>\n",
       "      <th>2</th>\n",
       "      <td>3</td>\n",
       "      <td>2021-07-15</td>\n",
       "      <td>동작구</td>\n",
       "      <td>서울특별시 동작구 노량진동 231-2</td>\n",
       "      <td>보도와 차도가 구분된 도로의 차도</td>\n",
       "      <td>2021-07-15</td>\n",
       "    </tr>\n",
       "    <tr>\n",
       "      <th>3</th>\n",
       "      <td>4</td>\n",
       "      <td>2021-07-15</td>\n",
       "      <td>동작구</td>\n",
       "      <td>서울특별시 동작구 노량진동 54-3</td>\n",
       "      <td>버스정류장, 택시 승강장</td>\n",
       "      <td>2021-07-15</td>\n",
       "    </tr>\n",
       "    <tr>\n",
       "      <th>4</th>\n",
       "      <td>5</td>\n",
       "      <td>2021-07-15</td>\n",
       "      <td>동작구</td>\n",
       "      <td>서울특별시 동작구 신대방동 460-30</td>\n",
       "      <td>보도와 차도가 구분된 도로의 차도</td>\n",
       "      <td>2021-07-15</td>\n",
       "    </tr>\n",
       "  </tbody>\n",
       "</table>\n",
       "</div>"
      ],
      "text/plain": [
       "   번호         신고일   구정보                      주소                  유형  \\\n",
       "0   1  2021-07-15  영등포구   서울특별시 영등포구 여의도동 84-10  보도와 차도가 구분된 도로의 차도   \n",
       "1   2  2021-07-15  영등포구  서울특별시 영등포구 영등포동1가 97-4               보도 중앙   \n",
       "2   3  2021-07-15   동작구    서울특별시 동작구 노량진동 231-2  보도와 차도가 구분된 도로의 차도   \n",
       "3   4  2021-07-15   동작구     서울특별시 동작구 노량진동 54-3       버스정류장, 택시 승강장   \n",
       "4   5  2021-07-15   동작구   서울특별시 동작구 신대방동 460-30  보도와 차도가 구분된 도로의 차도   \n",
       "\n",
       "          조치일  \n",
       "0  2021-07-15  \n",
       "1  2021-07-15  \n",
       "2  2021-07-15  \n",
       "3  2021-07-15  \n",
       "4  2021-07-15  "
      ]
     },
     "execution_count": 3,
     "metadata": {},
     "output_type": "execute_result"
    }
   ],
   "source": [
    "df2308.head()"
   ]
  },
  {
   "cell_type": "code",
   "execution_count": 4,
   "metadata": {},
   "outputs": [
    {
     "name": "stdout",
     "output_type": "stream",
     "text": [
      "<class 'pandas.core.frame.DataFrame'>\n",
      "RangeIndex: 123727 entries, 0 to 123726\n",
      "Data columns (total 6 columns):\n",
      " #   Column  Non-Null Count   Dtype \n",
      "---  ------  --------------   ----- \n",
      " 0   번호      123727 non-null  int64 \n",
      " 1   신고일     123727 non-null  object\n",
      " 2   구정보     123727 non-null  object\n",
      " 3   주소      123727 non-null  object\n",
      " 4   유형      123726 non-null  object\n",
      " 5   조치일     123726 non-null  object\n",
      "dtypes: int64(1), object(5)\n",
      "memory usage: 5.7+ MB\n"
     ]
    }
   ],
   "source": [
    "df2308.info()"
   ]
  },
  {
   "cell_type": "markdown",
   "metadata": {},
   "source": [
    "유형 칼럼과 조치일 칼럼에 결측치 하나씩 존재. 확인 필요."
   ]
  },
  {
   "cell_type": "code",
   "execution_count": 5,
   "metadata": {},
   "outputs": [
    {
     "data": {
      "text/html": [
       "<div>\n",
       "<style scoped>\n",
       "    .dataframe tbody tr th:only-of-type {\n",
       "        vertical-align: middle;\n",
       "    }\n",
       "\n",
       "    .dataframe tbody tr th {\n",
       "        vertical-align: top;\n",
       "    }\n",
       "\n",
       "    .dataframe thead th {\n",
       "        text-align: right;\n",
       "    }\n",
       "</style>\n",
       "<table border=\"1\" class=\"dataframe\">\n",
       "  <thead>\n",
       "    <tr style=\"text-align: right;\">\n",
       "      <th></th>\n",
       "      <th>번호</th>\n",
       "      <th>신고일</th>\n",
       "      <th>구정보</th>\n",
       "      <th>주소</th>\n",
       "      <th>유형</th>\n",
       "      <th>조치일</th>\n",
       "    </tr>\n",
       "  </thead>\n",
       "  <tbody>\n",
       "    <tr>\n",
       "      <th>2815</th>\n",
       "      <td>2816</td>\n",
       "      <td>2021-08-17</td>\n",
       "      <td>관악구</td>\n",
       "      <td>서울특별시 관악구 신림동 1467-10</td>\n",
       "      <td>NaN</td>\n",
       "      <td>NaN</td>\n",
       "    </tr>\n",
       "  </tbody>\n",
       "</table>\n",
       "</div>"
      ],
      "text/plain": [
       "        번호         신고일  구정보                     주소   유형  조치일\n",
       "2815  2816  2021-08-17  관악구  서울특별시 관악구 신림동 1467-10  NaN  NaN"
      ]
     },
     "execution_count": 5,
     "metadata": {},
     "output_type": "execute_result"
    }
   ],
   "source": [
    "df2308[df2308['유형'].isnull()]"
   ]
  },
  {
   "cell_type": "markdown",
   "metadata": {},
   "source": [
    "결측치 제거"
   ]
  },
  {
   "cell_type": "code",
   "execution_count": 6,
   "metadata": {},
   "outputs": [],
   "source": [
    "df2308.dropna(inplace=True)"
   ]
  },
  {
   "cell_type": "markdown",
   "metadata": {},
   "source": [
    "사라진 거 확인"
   ]
  },
  {
   "cell_type": "code",
   "execution_count": 7,
   "metadata": {},
   "outputs": [
    {
     "name": "stdout",
     "output_type": "stream",
     "text": [
      "<class 'pandas.core.frame.DataFrame'>\n",
      "Index: 123726 entries, 0 to 123726\n",
      "Data columns (total 6 columns):\n",
      " #   Column  Non-Null Count   Dtype \n",
      "---  ------  --------------   ----- \n",
      " 0   번호      123726 non-null  int64 \n",
      " 1   신고일     123726 non-null  object\n",
      " 2   구정보     123726 non-null  object\n",
      " 3   주소      123726 non-null  object\n",
      " 4   유형      123726 non-null  object\n",
      " 5   조치일     123726 non-null  object\n",
      "dtypes: int64(1), object(5)\n",
      "memory usage: 6.6+ MB\n"
     ]
    }
   ],
   "source": [
    "df2308.info()"
   ]
  },
  {
   "cell_type": "markdown",
   "metadata": {},
   "source": [
    "### 지금까지 상황 정리\n",
    "- 서울시 전동킥보드 견인 현황 : https://data.seoul.go.kr/dataList/OA-21304/S/1/datasetView.do\n",
    "- 서울시 전동킥보드 주차구역 현황 : https://data.seoul.go.kr/dataList/OA-21710/S/1/datasetView.do\n",
    "- \n",
    "- 전화 신고도 있고 웹페이지 신고도 있는듯 : https://seoul-pm.eseoul.go.kr/mobile/report/main.do\n",
    "- 웹페이지 신고는 QR 찍어서 공유킥보드 회사, 킥보드ID 수집하는듯.\n",
    "- \n",
    "- 파일은 최신 파일만 보면 됨. 이전 파일에 담긴 내용 다 포함하고 있음.\n",
    "- 2021년 7월 15일부터 시작.\n",
    "- 결측치는 21년 8월 17일에 딱 하나 존재 -> 제거\n",
    "- 2023년 8월부터는 유형 칼럼이 정해진 값대로 작성되지 않고 민원내용을 그대로 복붙해놓고 있음. -> 데이터 범위를 21년 7월부터 23년 7월까지만 다루면 될듯.\n",
    "- 유형 칼럼에서 오신고 행 존재 -> 제거해야 함.\n",
    "- \n",
    "- 기본적으로 월별로 어느 지역에서 견인이 가장 많이 이뤄지는지 확인해 볼 수 있음.\n",
    "- \n",
    "- 처음엔 6개 자치구에서 시작해서 25개 자치구 전체로 확대됨. -> 그 시점 파악해 볼 것.\n",
    "- 2022년 3월 22일 이후 견인유예 제도 시행 -> 이 때 전후 견인량 차이도 볼 것 : https://biz.chosun.com/topics/topics_social/2022/03/22/VVT6BLMHXJDAZEOQIC3XZLUKZY/\n",
    "- 공유킥보드 주차공간도 이 때 이후로 생긴 듯 -> 주차공간 생긴 지역 견인량 차이도 볼 것 : https://news.mt.co.kr/mtview.php?no=2023090315024460221\n",
    "- 견인업체가 셀프신고하는 문제 : https://www.sisaweek.com/news/articleView.html?idxno=201606\n",
    "- \n",
    "- 운행기록 데이터가 있어야 더 깊은 분석 가능할듯. 하지만 당장 다운받을 수 있는 운행기록 데이터는 찾지 못 함.\n",
    "- 국가교통데이터 오픈마켓 : https://www.bigdata-transportation.kr/frn/prdt/detail?prdtId=PRDTNUM_000000020360\n",
    "- 지오비전 퍼즐 : https://puzzle.geovision.co.kr/data/%EA%B3%B5%EC%9C%A0-%ED%82%A5%EB%B3%B4%EB%93%9C-%EC%9D%B4%EC%9A%A9-d1651650511283\n",
    "- 유동인구 데이터를 구해야 하나?"
   ]
  },
  {
   "cell_type": "markdown",
   "metadata": {},
   "source": [
    "### 2년 범위 설정"
   ]
  },
  {
   "cell_type": "code",
   "execution_count": 8,
   "metadata": {},
   "outputs": [
    {
     "data": {
      "text/html": [
       "<div>\n",
       "<style scoped>\n",
       "    .dataframe tbody tr th:only-of-type {\n",
       "        vertical-align: middle;\n",
       "    }\n",
       "\n",
       "    .dataframe tbody tr th {\n",
       "        vertical-align: top;\n",
       "    }\n",
       "\n",
       "    .dataframe thead th {\n",
       "        text-align: right;\n",
       "    }\n",
       "</style>\n",
       "<table border=\"1\" class=\"dataframe\">\n",
       "  <thead>\n",
       "    <tr style=\"text-align: right;\">\n",
       "      <th></th>\n",
       "      <th>번호</th>\n",
       "      <th>신고일</th>\n",
       "      <th>구정보</th>\n",
       "      <th>주소</th>\n",
       "      <th>유형</th>\n",
       "      <th>조치일</th>\n",
       "    </tr>\n",
       "  </thead>\n",
       "  <tbody>\n",
       "    <tr>\n",
       "      <th>0</th>\n",
       "      <td>1</td>\n",
       "      <td>2021-07-15</td>\n",
       "      <td>영등포구</td>\n",
       "      <td>서울특별시 영등포구 여의도동 84-10</td>\n",
       "      <td>보도와 차도가 구분된 도로의 차도</td>\n",
       "      <td>2021-07-15</td>\n",
       "    </tr>\n",
       "    <tr>\n",
       "      <th>1</th>\n",
       "      <td>2</td>\n",
       "      <td>2021-07-15</td>\n",
       "      <td>영등포구</td>\n",
       "      <td>서울특별시 영등포구 영등포동1가 97-4</td>\n",
       "      <td>보도 중앙</td>\n",
       "      <td>2021-07-15</td>\n",
       "    </tr>\n",
       "    <tr>\n",
       "      <th>2</th>\n",
       "      <td>3</td>\n",
       "      <td>2021-07-15</td>\n",
       "      <td>동작구</td>\n",
       "      <td>서울특별시 동작구 노량진동 231-2</td>\n",
       "      <td>보도와 차도가 구분된 도로의 차도</td>\n",
       "      <td>2021-07-15</td>\n",
       "    </tr>\n",
       "    <tr>\n",
       "      <th>3</th>\n",
       "      <td>4</td>\n",
       "      <td>2021-07-15</td>\n",
       "      <td>동작구</td>\n",
       "      <td>서울특별시 동작구 노량진동 54-3</td>\n",
       "      <td>버스정류장, 택시 승강장</td>\n",
       "      <td>2021-07-15</td>\n",
       "    </tr>\n",
       "    <tr>\n",
       "      <th>4</th>\n",
       "      <td>5</td>\n",
       "      <td>2021-07-15</td>\n",
       "      <td>동작구</td>\n",
       "      <td>서울특별시 동작구 신대방동 460-30</td>\n",
       "      <td>보도와 차도가 구분된 도로의 차도</td>\n",
       "      <td>2021-07-15</td>\n",
       "    </tr>\n",
       "    <tr>\n",
       "      <th>...</th>\n",
       "      <td>...</td>\n",
       "      <td>...</td>\n",
       "      <td>...</td>\n",
       "      <td>...</td>\n",
       "      <td>...</td>\n",
       "      <td>...</td>\n",
       "    </tr>\n",
       "    <tr>\n",
       "      <th>114494</th>\n",
       "      <td>114495</td>\n",
       "      <td>2023-07-14</td>\n",
       "      <td>종로구</td>\n",
       "      <td>서울특별시 종로구 내수동 72</td>\n",
       "      <td>횡단보도, 산책로 등</td>\n",
       "      <td>2023-07-14</td>\n",
       "    </tr>\n",
       "    <tr>\n",
       "      <th>114495</th>\n",
       "      <td>114496</td>\n",
       "      <td>2023-07-14</td>\n",
       "      <td>관악구</td>\n",
       "      <td>서울특별시 관악구 봉천동 1718</td>\n",
       "      <td>횡단보도, 산책로 등</td>\n",
       "      <td>2023-07-14</td>\n",
       "    </tr>\n",
       "    <tr>\n",
       "      <th>114496</th>\n",
       "      <td>114497</td>\n",
       "      <td>2023-07-14</td>\n",
       "      <td>관악구</td>\n",
       "      <td>서울특별시 관악구 봉천동 1703-2</td>\n",
       "      <td>보도 중앙</td>\n",
       "      <td>2023-07-14</td>\n",
       "    </tr>\n",
       "    <tr>\n",
       "      <th>114497</th>\n",
       "      <td>114498</td>\n",
       "      <td>2023-07-14</td>\n",
       "      <td>관악구</td>\n",
       "      <td>서울특별시 관악구 봉천동 1703-2</td>\n",
       "      <td>버스정류장, 택시 승강장</td>\n",
       "      <td>2023-07-14</td>\n",
       "    </tr>\n",
       "    <tr>\n",
       "      <th>114498</th>\n",
       "      <td>114499</td>\n",
       "      <td>2023-07-14</td>\n",
       "      <td>관악구</td>\n",
       "      <td>서울특별시 관악구 봉천동 1718-12</td>\n",
       "      <td>횡단보도, 산책로 등</td>\n",
       "      <td>2023-07-14</td>\n",
       "    </tr>\n",
       "  </tbody>\n",
       "</table>\n",
       "<p>114498 rows × 6 columns</p>\n",
       "</div>"
      ],
      "text/plain": [
       "            번호         신고일   구정보                      주소                  유형  \\\n",
       "0            1  2021-07-15  영등포구   서울특별시 영등포구 여의도동 84-10  보도와 차도가 구분된 도로의 차도   \n",
       "1            2  2021-07-15  영등포구  서울특별시 영등포구 영등포동1가 97-4               보도 중앙   \n",
       "2            3  2021-07-15   동작구    서울특별시 동작구 노량진동 231-2  보도와 차도가 구분된 도로의 차도   \n",
       "3            4  2021-07-15   동작구     서울특별시 동작구 노량진동 54-3       버스정류장, 택시 승강장   \n",
       "4            5  2021-07-15   동작구   서울특별시 동작구 신대방동 460-30  보도와 차도가 구분된 도로의 차도   \n",
       "...        ...         ...   ...                     ...                 ...   \n",
       "114494  114495  2023-07-14   종로구        서울특별시 종로구 내수동 72         횡단보도, 산책로 등   \n",
       "114495  114496  2023-07-14   관악구      서울특별시 관악구 봉천동 1718         횡단보도, 산책로 등   \n",
       "114496  114497  2023-07-14   관악구    서울특별시 관악구 봉천동 1703-2               보도 중앙   \n",
       "114497  114498  2023-07-14   관악구    서울특별시 관악구 봉천동 1703-2       버스정류장, 택시 승강장   \n",
       "114498  114499  2023-07-14   관악구   서울특별시 관악구 봉천동 1718-12         횡단보도, 산책로 등   \n",
       "\n",
       "               조치일  \n",
       "0       2021-07-15  \n",
       "1       2021-07-15  \n",
       "2       2021-07-15  \n",
       "3       2021-07-15  \n",
       "4       2021-07-15  \n",
       "...            ...  \n",
       "114494  2023-07-14  \n",
       "114495  2023-07-14  \n",
       "114496  2023-07-14  \n",
       "114497  2023-07-14  \n",
       "114498  2023-07-14  \n",
       "\n",
       "[114498 rows x 6 columns]"
      ]
     },
     "execution_count": 8,
     "metadata": {},
     "output_type": "execute_result"
    }
   ],
   "source": [
    "df2308[df2308['신고일'] < '2023-07-15']"
   ]
  },
  {
   "cell_type": "code",
   "execution_count": 9,
   "metadata": {},
   "outputs": [],
   "source": [
    "df2y = df2308[df2308['신고일'] < '2023-07-15']"
   ]
  },
  {
   "cell_type": "markdown",
   "metadata": {},
   "source": [
    "### 유형 칼럼에서 오신고 행 삭제"
   ]
  },
  {
   "cell_type": "code",
   "execution_count": 10,
   "metadata": {},
   "outputs": [
    {
     "data": {
      "text/plain": [
       "array(['보도와 차도가 구분된 도로의 차도', '보도 중앙', '버스정류장, 택시 승강장', '횡단보도, 산책로 등',\n",
       "       '기타', '소방시설 5m 이내 구역', '건물, 상가 보행자 진출입', '점자블록, 엘리베이터 입구',\n",
       "       '육교위, 지하보차도 안', '자전거 도로', '지하철역 진출입로 및 주변', '오신고', '턱을 낮춘 진출입로',\n",
       "       '통행제한 구간', '계단, 난간'], dtype=object)"
      ]
     },
     "execution_count": 10,
     "metadata": {},
     "output_type": "execute_result"
    }
   ],
   "source": [
    "df2y['유형'].unique()"
   ]
  },
  {
   "cell_type": "code",
   "execution_count": 11,
   "metadata": {},
   "outputs": [
    {
     "data": {
      "text/html": [
       "<div>\n",
       "<style scoped>\n",
       "    .dataframe tbody tr th:only-of-type {\n",
       "        vertical-align: middle;\n",
       "    }\n",
       "\n",
       "    .dataframe tbody tr th {\n",
       "        vertical-align: top;\n",
       "    }\n",
       "\n",
       "    .dataframe thead th {\n",
       "        text-align: right;\n",
       "    }\n",
       "</style>\n",
       "<table border=\"1\" class=\"dataframe\">\n",
       "  <thead>\n",
       "    <tr style=\"text-align: right;\">\n",
       "      <th></th>\n",
       "      <th>번호</th>\n",
       "      <th>신고일</th>\n",
       "      <th>구정보</th>\n",
       "      <th>주소</th>\n",
       "      <th>유형</th>\n",
       "      <th>조치일</th>\n",
       "    </tr>\n",
       "  </thead>\n",
       "  <tbody>\n",
       "    <tr>\n",
       "      <th>686</th>\n",
       "      <td>687</td>\n",
       "      <td>2021-07-22</td>\n",
       "      <td>마포구</td>\n",
       "      <td>서울특별시 마포구 공덕동 237-9</td>\n",
       "      <td>오신고</td>\n",
       "      <td>2021-07-22</td>\n",
       "    </tr>\n",
       "    <tr>\n",
       "      <th>2262</th>\n",
       "      <td>2263</td>\n",
       "      <td>2021-08-10</td>\n",
       "      <td>동작구</td>\n",
       "      <td>서울특별시 동작구 노량진동 114-8</td>\n",
       "      <td>오신고</td>\n",
       "      <td>2021-08-10</td>\n",
       "    </tr>\n",
       "    <tr>\n",
       "      <th>2299</th>\n",
       "      <td>2300</td>\n",
       "      <td>2021-08-10</td>\n",
       "      <td>동작구</td>\n",
       "      <td>서울특별시 동작구 신대방동 370-1</td>\n",
       "      <td>오신고</td>\n",
       "      <td>2021-08-10</td>\n",
       "    </tr>\n",
       "    <tr>\n",
       "      <th>2531</th>\n",
       "      <td>2532</td>\n",
       "      <td>2021-08-12</td>\n",
       "      <td>동작구</td>\n",
       "      <td>서울특별시 동작구 상도동 126-118</td>\n",
       "      <td>오신고</td>\n",
       "      <td>2021-08-13</td>\n",
       "    </tr>\n",
       "    <tr>\n",
       "      <th>3927</th>\n",
       "      <td>3928</td>\n",
       "      <td>2021-08-26</td>\n",
       "      <td>동작구</td>\n",
       "      <td>서울특별시 동작구 신대방동 345-6</td>\n",
       "      <td>오신고</td>\n",
       "      <td>2021-08-26</td>\n",
       "    </tr>\n",
       "    <tr>\n",
       "      <th>...</th>\n",
       "      <td>...</td>\n",
       "      <td>...</td>\n",
       "      <td>...</td>\n",
       "      <td>...</td>\n",
       "      <td>...</td>\n",
       "      <td>...</td>\n",
       "    </tr>\n",
       "    <tr>\n",
       "      <th>111973</th>\n",
       "      <td>111974</td>\n",
       "      <td>2023-06-30</td>\n",
       "      <td>성동구</td>\n",
       "      <td>서울특별시 성동구 상왕십리동 759-1</td>\n",
       "      <td>오신고</td>\n",
       "      <td>2023-06-30</td>\n",
       "    </tr>\n",
       "    <tr>\n",
       "      <th>112144</th>\n",
       "      <td>112145</td>\n",
       "      <td>2023-07-03</td>\n",
       "      <td>중구</td>\n",
       "      <td>서울특별시 중구 서소문동 37</td>\n",
       "      <td>오신고</td>\n",
       "      <td>2023-07-18</td>\n",
       "    </tr>\n",
       "    <tr>\n",
       "      <th>112822</th>\n",
       "      <td>112823</td>\n",
       "      <td>2023-07-05</td>\n",
       "      <td>용산구</td>\n",
       "      <td>서울특별시 용산구 효창동 255-3</td>\n",
       "      <td>오신고</td>\n",
       "      <td>2023-07-05</td>\n",
       "    </tr>\n",
       "    <tr>\n",
       "      <th>113619</th>\n",
       "      <td>113620</td>\n",
       "      <td>2023-07-10</td>\n",
       "      <td>중구</td>\n",
       "      <td>서울특별시 중구 신당동 251-160</td>\n",
       "      <td>오신고</td>\n",
       "      <td>2023-07-10</td>\n",
       "    </tr>\n",
       "    <tr>\n",
       "      <th>114112</th>\n",
       "      <td>114113</td>\n",
       "      <td>2023-07-12</td>\n",
       "      <td>중구</td>\n",
       "      <td>서울특별시 중구 을지로6가 17-2</td>\n",
       "      <td>오신고</td>\n",
       "      <td>2023-07-12</td>\n",
       "    </tr>\n",
       "  </tbody>\n",
       "</table>\n",
       "<p>262 rows × 6 columns</p>\n",
       "</div>"
      ],
      "text/plain": [
       "            번호         신고일  구정보                     주소   유형         조치일\n",
       "686        687  2021-07-22  마포구    서울특별시 마포구 공덕동 237-9  오신고  2021-07-22\n",
       "2262      2263  2021-08-10  동작구   서울특별시 동작구 노량진동 114-8  오신고  2021-08-10\n",
       "2299      2300  2021-08-10  동작구   서울특별시 동작구 신대방동 370-1  오신고  2021-08-10\n",
       "2531      2532  2021-08-12  동작구  서울특별시 동작구 상도동 126-118  오신고  2021-08-13\n",
       "3927      3928  2021-08-26  동작구   서울특별시 동작구 신대방동 345-6  오신고  2021-08-26\n",
       "...        ...         ...  ...                    ...  ...         ...\n",
       "111973  111974  2023-06-30  성동구  서울특별시 성동구 상왕십리동 759-1  오신고  2023-06-30\n",
       "112144  112145  2023-07-03   중구       서울특별시 중구 서소문동 37  오신고  2023-07-18\n",
       "112822  112823  2023-07-05  용산구    서울특별시 용산구 효창동 255-3  오신고  2023-07-05\n",
       "113619  113620  2023-07-10   중구   서울특별시 중구 신당동 251-160  오신고  2023-07-10\n",
       "114112  114113  2023-07-12   중구    서울특별시 중구 을지로6가 17-2  오신고  2023-07-12\n",
       "\n",
       "[262 rows x 6 columns]"
      ]
     },
     "execution_count": 11,
     "metadata": {},
     "output_type": "execute_result"
    }
   ],
   "source": [
    "df2y[df2y['유형'] == '오신고']"
   ]
  },
  {
   "cell_type": "code",
   "execution_count": 12,
   "metadata": {},
   "outputs": [
    {
     "data": {
      "text/html": [
       "<div>\n",
       "<style scoped>\n",
       "    .dataframe tbody tr th:only-of-type {\n",
       "        vertical-align: middle;\n",
       "    }\n",
       "\n",
       "    .dataframe tbody tr th {\n",
       "        vertical-align: top;\n",
       "    }\n",
       "\n",
       "    .dataframe thead th {\n",
       "        text-align: right;\n",
       "    }\n",
       "</style>\n",
       "<table border=\"1\" class=\"dataframe\">\n",
       "  <thead>\n",
       "    <tr style=\"text-align: right;\">\n",
       "      <th></th>\n",
       "      <th>번호</th>\n",
       "      <th>신고일</th>\n",
       "      <th>구정보</th>\n",
       "      <th>주소</th>\n",
       "      <th>유형</th>\n",
       "      <th>조치일</th>\n",
       "    </tr>\n",
       "  </thead>\n",
       "  <tbody>\n",
       "    <tr>\n",
       "      <th>0</th>\n",
       "      <td>1</td>\n",
       "      <td>2021-07-15</td>\n",
       "      <td>영등포구</td>\n",
       "      <td>서울특별시 영등포구 여의도동 84-10</td>\n",
       "      <td>보도와 차도가 구분된 도로의 차도</td>\n",
       "      <td>2021-07-15</td>\n",
       "    </tr>\n",
       "    <tr>\n",
       "      <th>1</th>\n",
       "      <td>2</td>\n",
       "      <td>2021-07-15</td>\n",
       "      <td>영등포구</td>\n",
       "      <td>서울특별시 영등포구 영등포동1가 97-4</td>\n",
       "      <td>보도 중앙</td>\n",
       "      <td>2021-07-15</td>\n",
       "    </tr>\n",
       "    <tr>\n",
       "      <th>2</th>\n",
       "      <td>3</td>\n",
       "      <td>2021-07-15</td>\n",
       "      <td>동작구</td>\n",
       "      <td>서울특별시 동작구 노량진동 231-2</td>\n",
       "      <td>보도와 차도가 구분된 도로의 차도</td>\n",
       "      <td>2021-07-15</td>\n",
       "    </tr>\n",
       "    <tr>\n",
       "      <th>3</th>\n",
       "      <td>4</td>\n",
       "      <td>2021-07-15</td>\n",
       "      <td>동작구</td>\n",
       "      <td>서울특별시 동작구 노량진동 54-3</td>\n",
       "      <td>버스정류장, 택시 승강장</td>\n",
       "      <td>2021-07-15</td>\n",
       "    </tr>\n",
       "    <tr>\n",
       "      <th>4</th>\n",
       "      <td>5</td>\n",
       "      <td>2021-07-15</td>\n",
       "      <td>동작구</td>\n",
       "      <td>서울특별시 동작구 신대방동 460-30</td>\n",
       "      <td>보도와 차도가 구분된 도로의 차도</td>\n",
       "      <td>2021-07-15</td>\n",
       "    </tr>\n",
       "    <tr>\n",
       "      <th>...</th>\n",
       "      <td>...</td>\n",
       "      <td>...</td>\n",
       "      <td>...</td>\n",
       "      <td>...</td>\n",
       "      <td>...</td>\n",
       "      <td>...</td>\n",
       "    </tr>\n",
       "    <tr>\n",
       "      <th>114494</th>\n",
       "      <td>114495</td>\n",
       "      <td>2023-07-14</td>\n",
       "      <td>종로구</td>\n",
       "      <td>서울특별시 종로구 내수동 72</td>\n",
       "      <td>횡단보도, 산책로 등</td>\n",
       "      <td>2023-07-14</td>\n",
       "    </tr>\n",
       "    <tr>\n",
       "      <th>114495</th>\n",
       "      <td>114496</td>\n",
       "      <td>2023-07-14</td>\n",
       "      <td>관악구</td>\n",
       "      <td>서울특별시 관악구 봉천동 1718</td>\n",
       "      <td>횡단보도, 산책로 등</td>\n",
       "      <td>2023-07-14</td>\n",
       "    </tr>\n",
       "    <tr>\n",
       "      <th>114496</th>\n",
       "      <td>114497</td>\n",
       "      <td>2023-07-14</td>\n",
       "      <td>관악구</td>\n",
       "      <td>서울특별시 관악구 봉천동 1703-2</td>\n",
       "      <td>보도 중앙</td>\n",
       "      <td>2023-07-14</td>\n",
       "    </tr>\n",
       "    <tr>\n",
       "      <th>114497</th>\n",
       "      <td>114498</td>\n",
       "      <td>2023-07-14</td>\n",
       "      <td>관악구</td>\n",
       "      <td>서울특별시 관악구 봉천동 1703-2</td>\n",
       "      <td>버스정류장, 택시 승강장</td>\n",
       "      <td>2023-07-14</td>\n",
       "    </tr>\n",
       "    <tr>\n",
       "      <th>114498</th>\n",
       "      <td>114499</td>\n",
       "      <td>2023-07-14</td>\n",
       "      <td>관악구</td>\n",
       "      <td>서울특별시 관악구 봉천동 1718-12</td>\n",
       "      <td>횡단보도, 산책로 등</td>\n",
       "      <td>2023-07-14</td>\n",
       "    </tr>\n",
       "  </tbody>\n",
       "</table>\n",
       "<p>114236 rows × 6 columns</p>\n",
       "</div>"
      ],
      "text/plain": [
       "            번호         신고일   구정보                      주소                  유형  \\\n",
       "0            1  2021-07-15  영등포구   서울특별시 영등포구 여의도동 84-10  보도와 차도가 구분된 도로의 차도   \n",
       "1            2  2021-07-15  영등포구  서울특별시 영등포구 영등포동1가 97-4               보도 중앙   \n",
       "2            3  2021-07-15   동작구    서울특별시 동작구 노량진동 231-2  보도와 차도가 구분된 도로의 차도   \n",
       "3            4  2021-07-15   동작구     서울특별시 동작구 노량진동 54-3       버스정류장, 택시 승강장   \n",
       "4            5  2021-07-15   동작구   서울특별시 동작구 신대방동 460-30  보도와 차도가 구분된 도로의 차도   \n",
       "...        ...         ...   ...                     ...                 ...   \n",
       "114494  114495  2023-07-14   종로구        서울특별시 종로구 내수동 72         횡단보도, 산책로 등   \n",
       "114495  114496  2023-07-14   관악구      서울특별시 관악구 봉천동 1718         횡단보도, 산책로 등   \n",
       "114496  114497  2023-07-14   관악구    서울특별시 관악구 봉천동 1703-2               보도 중앙   \n",
       "114497  114498  2023-07-14   관악구    서울특별시 관악구 봉천동 1703-2       버스정류장, 택시 승강장   \n",
       "114498  114499  2023-07-14   관악구   서울특별시 관악구 봉천동 1718-12         횡단보도, 산책로 등   \n",
       "\n",
       "               조치일  \n",
       "0       2021-07-15  \n",
       "1       2021-07-15  \n",
       "2       2021-07-15  \n",
       "3       2021-07-15  \n",
       "4       2021-07-15  \n",
       "...            ...  \n",
       "114494  2023-07-14  \n",
       "114495  2023-07-14  \n",
       "114496  2023-07-14  \n",
       "114497  2023-07-14  \n",
       "114498  2023-07-14  \n",
       "\n",
       "[114236 rows x 6 columns]"
      ]
     },
     "execution_count": 12,
     "metadata": {},
     "output_type": "execute_result"
    }
   ],
   "source": [
    "df2y[df2y['유형'] != '오신고']"
   ]
  },
  {
   "cell_type": "code",
   "execution_count": 13,
   "metadata": {},
   "outputs": [],
   "source": [
    "valid_df2y = df2y[df2y['유형'] != '오신고']"
   ]
  },
  {
   "cell_type": "code",
   "execution_count": 14,
   "metadata": {},
   "outputs": [],
   "source": [
    "valid_df2y.reset_index(drop=True, inplace=True)"
   ]
  },
  {
   "cell_type": "code",
   "execution_count": 15,
   "metadata": {},
   "outputs": [
    {
     "data": {
      "text/html": [
       "<div>\n",
       "<style scoped>\n",
       "    .dataframe tbody tr th:only-of-type {\n",
       "        vertical-align: middle;\n",
       "    }\n",
       "\n",
       "    .dataframe tbody tr th {\n",
       "        vertical-align: top;\n",
       "    }\n",
       "\n",
       "    .dataframe thead th {\n",
       "        text-align: right;\n",
       "    }\n",
       "</style>\n",
       "<table border=\"1\" class=\"dataframe\">\n",
       "  <thead>\n",
       "    <tr style=\"text-align: right;\">\n",
       "      <th></th>\n",
       "      <th>번호</th>\n",
       "      <th>신고일</th>\n",
       "      <th>구정보</th>\n",
       "      <th>주소</th>\n",
       "      <th>유형</th>\n",
       "      <th>조치일</th>\n",
       "    </tr>\n",
       "  </thead>\n",
       "  <tbody>\n",
       "    <tr>\n",
       "      <th>0</th>\n",
       "      <td>1</td>\n",
       "      <td>2021-07-15</td>\n",
       "      <td>영등포구</td>\n",
       "      <td>서울특별시 영등포구 여의도동 84-10</td>\n",
       "      <td>보도와 차도가 구분된 도로의 차도</td>\n",
       "      <td>2021-07-15</td>\n",
       "    </tr>\n",
       "    <tr>\n",
       "      <th>1</th>\n",
       "      <td>2</td>\n",
       "      <td>2021-07-15</td>\n",
       "      <td>영등포구</td>\n",
       "      <td>서울특별시 영등포구 영등포동1가 97-4</td>\n",
       "      <td>보도 중앙</td>\n",
       "      <td>2021-07-15</td>\n",
       "    </tr>\n",
       "    <tr>\n",
       "      <th>2</th>\n",
       "      <td>3</td>\n",
       "      <td>2021-07-15</td>\n",
       "      <td>동작구</td>\n",
       "      <td>서울특별시 동작구 노량진동 231-2</td>\n",
       "      <td>보도와 차도가 구분된 도로의 차도</td>\n",
       "      <td>2021-07-15</td>\n",
       "    </tr>\n",
       "    <tr>\n",
       "      <th>3</th>\n",
       "      <td>4</td>\n",
       "      <td>2021-07-15</td>\n",
       "      <td>동작구</td>\n",
       "      <td>서울특별시 동작구 노량진동 54-3</td>\n",
       "      <td>버스정류장, 택시 승강장</td>\n",
       "      <td>2021-07-15</td>\n",
       "    </tr>\n",
       "    <tr>\n",
       "      <th>4</th>\n",
       "      <td>5</td>\n",
       "      <td>2021-07-15</td>\n",
       "      <td>동작구</td>\n",
       "      <td>서울특별시 동작구 신대방동 460-30</td>\n",
       "      <td>보도와 차도가 구분된 도로의 차도</td>\n",
       "      <td>2021-07-15</td>\n",
       "    </tr>\n",
       "  </tbody>\n",
       "</table>\n",
       "</div>"
      ],
      "text/plain": [
       "   번호         신고일   구정보                      주소                  유형  \\\n",
       "0   1  2021-07-15  영등포구   서울특별시 영등포구 여의도동 84-10  보도와 차도가 구분된 도로의 차도   \n",
       "1   2  2021-07-15  영등포구  서울특별시 영등포구 영등포동1가 97-4               보도 중앙   \n",
       "2   3  2021-07-15   동작구    서울특별시 동작구 노량진동 231-2  보도와 차도가 구분된 도로의 차도   \n",
       "3   4  2021-07-15   동작구     서울특별시 동작구 노량진동 54-3       버스정류장, 택시 승강장   \n",
       "4   5  2021-07-15   동작구   서울특별시 동작구 신대방동 460-30  보도와 차도가 구분된 도로의 차도   \n",
       "\n",
       "          조치일  \n",
       "0  2021-07-15  \n",
       "1  2021-07-15  \n",
       "2  2021-07-15  \n",
       "3  2021-07-15  \n",
       "4  2021-07-15  "
      ]
     },
     "execution_count": 15,
     "metadata": {},
     "output_type": "execute_result"
    }
   ],
   "source": [
    "valid_df2y.head()"
   ]
  },
  {
   "cell_type": "markdown",
   "metadata": {},
   "source": [
    "### 시각화"
   ]
  },
  {
   "cell_type": "markdown",
   "metadata": {},
   "source": [
    "구별 신고 건수 카운트해주는 dataframe 생성"
   ]
  },
  {
   "cell_type": "code",
   "execution_count": 16,
   "metadata": {},
   "outputs": [],
   "source": [
    "count_df = valid_df2y.pivot_table(index=valid_df2y['신고일'], columns=valid_df2y['구정보'], aggfunc='count')['번호']"
   ]
  },
  {
   "cell_type": "code",
   "execution_count": 17,
   "metadata": {},
   "outputs": [
    {
     "data": {
      "text/html": [
       "<div>\n",
       "<style scoped>\n",
       "    .dataframe tbody tr th:only-of-type {\n",
       "        vertical-align: middle;\n",
       "    }\n",
       "\n",
       "    .dataframe tbody tr th {\n",
       "        vertical-align: top;\n",
       "    }\n",
       "\n",
       "    .dataframe thead th {\n",
       "        text-align: right;\n",
       "    }\n",
       "</style>\n",
       "<table border=\"1\" class=\"dataframe\">\n",
       "  <thead>\n",
       "    <tr style=\"text-align: right;\">\n",
       "      <th>구정보</th>\n",
       "      <th>강남구</th>\n",
       "      <th>강동구</th>\n",
       "      <th>강북구</th>\n",
       "      <th>강서구</th>\n",
       "      <th>관악구</th>\n",
       "      <th>광진구</th>\n",
       "      <th>구로구</th>\n",
       "      <th>금천구</th>\n",
       "      <th>노원구</th>\n",
       "      <th>도봉구</th>\n",
       "      <th>...</th>\n",
       "      <th>성동구</th>\n",
       "      <th>성북구</th>\n",
       "      <th>송파구</th>\n",
       "      <th>양천구</th>\n",
       "      <th>영등포구</th>\n",
       "      <th>용산구</th>\n",
       "      <th>은평구</th>\n",
       "      <th>종로구</th>\n",
       "      <th>중구</th>\n",
       "      <th>중랑구</th>\n",
       "    </tr>\n",
       "    <tr>\n",
       "      <th>신고일</th>\n",
       "      <th></th>\n",
       "      <th></th>\n",
       "      <th></th>\n",
       "      <th></th>\n",
       "      <th></th>\n",
       "      <th></th>\n",
       "      <th></th>\n",
       "      <th></th>\n",
       "      <th></th>\n",
       "      <th></th>\n",
       "      <th></th>\n",
       "      <th></th>\n",
       "      <th></th>\n",
       "      <th></th>\n",
       "      <th></th>\n",
       "      <th></th>\n",
       "      <th></th>\n",
       "      <th></th>\n",
       "      <th></th>\n",
       "      <th></th>\n",
       "      <th></th>\n",
       "    </tr>\n",
       "  </thead>\n",
       "  <tbody>\n",
       "    <tr>\n",
       "      <th>2021-07-15</th>\n",
       "      <td>NaN</td>\n",
       "      <td>NaN</td>\n",
       "      <td>NaN</td>\n",
       "      <td>NaN</td>\n",
       "      <td>NaN</td>\n",
       "      <td>NaN</td>\n",
       "      <td>NaN</td>\n",
       "      <td>NaN</td>\n",
       "      <td>NaN</td>\n",
       "      <td>NaN</td>\n",
       "      <td>...</td>\n",
       "      <td>NaN</td>\n",
       "      <td>NaN</td>\n",
       "      <td>NaN</td>\n",
       "      <td>NaN</td>\n",
       "      <td>18.0</td>\n",
       "      <td>NaN</td>\n",
       "      <td>NaN</td>\n",
       "      <td>NaN</td>\n",
       "      <td>NaN</td>\n",
       "      <td>NaN</td>\n",
       "    </tr>\n",
       "    <tr>\n",
       "      <th>2021-07-16</th>\n",
       "      <td>NaN</td>\n",
       "      <td>NaN</td>\n",
       "      <td>NaN</td>\n",
       "      <td>NaN</td>\n",
       "      <td>NaN</td>\n",
       "      <td>NaN</td>\n",
       "      <td>NaN</td>\n",
       "      <td>NaN</td>\n",
       "      <td>NaN</td>\n",
       "      <td>NaN</td>\n",
       "      <td>...</td>\n",
       "      <td>NaN</td>\n",
       "      <td>NaN</td>\n",
       "      <td>21.0</td>\n",
       "      <td>NaN</td>\n",
       "      <td>46.0</td>\n",
       "      <td>NaN</td>\n",
       "      <td>NaN</td>\n",
       "      <td>NaN</td>\n",
       "      <td>NaN</td>\n",
       "      <td>NaN</td>\n",
       "    </tr>\n",
       "    <tr>\n",
       "      <th>2021-07-19</th>\n",
       "      <td>NaN</td>\n",
       "      <td>NaN</td>\n",
       "      <td>NaN</td>\n",
       "      <td>NaN</td>\n",
       "      <td>NaN</td>\n",
       "      <td>NaN</td>\n",
       "      <td>NaN</td>\n",
       "      <td>NaN</td>\n",
       "      <td>NaN</td>\n",
       "      <td>13.0</td>\n",
       "      <td>...</td>\n",
       "      <td>NaN</td>\n",
       "      <td>NaN</td>\n",
       "      <td>25.0</td>\n",
       "      <td>NaN</td>\n",
       "      <td>58.0</td>\n",
       "      <td>1.0</td>\n",
       "      <td>NaN</td>\n",
       "      <td>NaN</td>\n",
       "      <td>1.0</td>\n",
       "      <td>NaN</td>\n",
       "    </tr>\n",
       "    <tr>\n",
       "      <th>2021-07-20</th>\n",
       "      <td>NaN</td>\n",
       "      <td>NaN</td>\n",
       "      <td>NaN</td>\n",
       "      <td>NaN</td>\n",
       "      <td>NaN</td>\n",
       "      <td>NaN</td>\n",
       "      <td>NaN</td>\n",
       "      <td>NaN</td>\n",
       "      <td>NaN</td>\n",
       "      <td>11.0</td>\n",
       "      <td>...</td>\n",
       "      <td>NaN</td>\n",
       "      <td>NaN</td>\n",
       "      <td>20.0</td>\n",
       "      <td>NaN</td>\n",
       "      <td>56.0</td>\n",
       "      <td>NaN</td>\n",
       "      <td>NaN</td>\n",
       "      <td>NaN</td>\n",
       "      <td>NaN</td>\n",
       "      <td>NaN</td>\n",
       "    </tr>\n",
       "    <tr>\n",
       "      <th>2021-07-21</th>\n",
       "      <td>NaN</td>\n",
       "      <td>NaN</td>\n",
       "      <td>NaN</td>\n",
       "      <td>NaN</td>\n",
       "      <td>NaN</td>\n",
       "      <td>NaN</td>\n",
       "      <td>NaN</td>\n",
       "      <td>NaN</td>\n",
       "      <td>NaN</td>\n",
       "      <td>9.0</td>\n",
       "      <td>...</td>\n",
       "      <td>NaN</td>\n",
       "      <td>NaN</td>\n",
       "      <td>25.0</td>\n",
       "      <td>NaN</td>\n",
       "      <td>61.0</td>\n",
       "      <td>NaN</td>\n",
       "      <td>NaN</td>\n",
       "      <td>NaN</td>\n",
       "      <td>NaN</td>\n",
       "      <td>NaN</td>\n",
       "    </tr>\n",
       "  </tbody>\n",
       "</table>\n",
       "<p>5 rows × 25 columns</p>\n",
       "</div>"
      ],
      "text/plain": [
       "구정보         강남구  강동구  강북구  강서구  관악구  광진구  구로구  금천구  노원구   도봉구  ...  성동구  성북구  \\\n",
       "신고일                                                            ...             \n",
       "2021-07-15  NaN  NaN  NaN  NaN  NaN  NaN  NaN  NaN  NaN   NaN  ...  NaN  NaN   \n",
       "2021-07-16  NaN  NaN  NaN  NaN  NaN  NaN  NaN  NaN  NaN   NaN  ...  NaN  NaN   \n",
       "2021-07-19  NaN  NaN  NaN  NaN  NaN  NaN  NaN  NaN  NaN  13.0  ...  NaN  NaN   \n",
       "2021-07-20  NaN  NaN  NaN  NaN  NaN  NaN  NaN  NaN  NaN  11.0  ...  NaN  NaN   \n",
       "2021-07-21  NaN  NaN  NaN  NaN  NaN  NaN  NaN  NaN  NaN   9.0  ...  NaN  NaN   \n",
       "\n",
       "구정보          송파구  양천구  영등포구  용산구  은평구  종로구   중구  중랑구  \n",
       "신고일                                                   \n",
       "2021-07-15   NaN  NaN  18.0  NaN  NaN  NaN  NaN  NaN  \n",
       "2021-07-16  21.0  NaN  46.0  NaN  NaN  NaN  NaN  NaN  \n",
       "2021-07-19  25.0  NaN  58.0  1.0  NaN  NaN  1.0  NaN  \n",
       "2021-07-20  20.0  NaN  56.0  NaN  NaN  NaN  NaN  NaN  \n",
       "2021-07-21  25.0  NaN  61.0  NaN  NaN  NaN  NaN  NaN  \n",
       "\n",
       "[5 rows x 25 columns]"
      ]
     },
     "execution_count": 17,
     "metadata": {},
     "output_type": "execute_result"
    }
   ],
   "source": [
    "count_df.head()"
   ]
  },
  {
   "cell_type": "markdown",
   "metadata": {},
   "source": [
    "구별 건수 합계 칼럼 생성"
   ]
  },
  {
   "cell_type": "code",
   "execution_count": 18,
   "metadata": {},
   "outputs": [],
   "source": [
    "count_df['total_count'] = count_df.sum(axis = 1)"
   ]
  },
  {
   "cell_type": "markdown",
   "metadata": {},
   "source": [
    "칼럼 생성 확인"
   ]
  },
  {
   "cell_type": "code",
   "execution_count": 19,
   "metadata": {},
   "outputs": [
    {
     "data": {
      "text/html": [
       "<div>\n",
       "<style scoped>\n",
       "    .dataframe tbody tr th:only-of-type {\n",
       "        vertical-align: middle;\n",
       "    }\n",
       "\n",
       "    .dataframe tbody tr th {\n",
       "        vertical-align: top;\n",
       "    }\n",
       "\n",
       "    .dataframe thead th {\n",
       "        text-align: right;\n",
       "    }\n",
       "</style>\n",
       "<table border=\"1\" class=\"dataframe\">\n",
       "  <thead>\n",
       "    <tr style=\"text-align: right;\">\n",
       "      <th>구정보</th>\n",
       "      <th>강남구</th>\n",
       "      <th>강동구</th>\n",
       "      <th>강북구</th>\n",
       "      <th>강서구</th>\n",
       "      <th>관악구</th>\n",
       "      <th>광진구</th>\n",
       "      <th>구로구</th>\n",
       "      <th>금천구</th>\n",
       "      <th>노원구</th>\n",
       "      <th>도봉구</th>\n",
       "      <th>...</th>\n",
       "      <th>성북구</th>\n",
       "      <th>송파구</th>\n",
       "      <th>양천구</th>\n",
       "      <th>영등포구</th>\n",
       "      <th>용산구</th>\n",
       "      <th>은평구</th>\n",
       "      <th>종로구</th>\n",
       "      <th>중구</th>\n",
       "      <th>중랑구</th>\n",
       "      <th>total_count</th>\n",
       "    </tr>\n",
       "    <tr>\n",
       "      <th>신고일</th>\n",
       "      <th></th>\n",
       "      <th></th>\n",
       "      <th></th>\n",
       "      <th></th>\n",
       "      <th></th>\n",
       "      <th></th>\n",
       "      <th></th>\n",
       "      <th></th>\n",
       "      <th></th>\n",
       "      <th></th>\n",
       "      <th></th>\n",
       "      <th></th>\n",
       "      <th></th>\n",
       "      <th></th>\n",
       "      <th></th>\n",
       "      <th></th>\n",
       "      <th></th>\n",
       "      <th></th>\n",
       "      <th></th>\n",
       "      <th></th>\n",
       "      <th></th>\n",
       "    </tr>\n",
       "  </thead>\n",
       "  <tbody>\n",
       "    <tr>\n",
       "      <th>2021-07-15</th>\n",
       "      <td>NaN</td>\n",
       "      <td>NaN</td>\n",
       "      <td>NaN</td>\n",
       "      <td>NaN</td>\n",
       "      <td>NaN</td>\n",
       "      <td>NaN</td>\n",
       "      <td>NaN</td>\n",
       "      <td>NaN</td>\n",
       "      <td>NaN</td>\n",
       "      <td>NaN</td>\n",
       "      <td>...</td>\n",
       "      <td>NaN</td>\n",
       "      <td>NaN</td>\n",
       "      <td>NaN</td>\n",
       "      <td>18.0</td>\n",
       "      <td>NaN</td>\n",
       "      <td>NaN</td>\n",
       "      <td>NaN</td>\n",
       "      <td>NaN</td>\n",
       "      <td>NaN</td>\n",
       "      <td>35.0</td>\n",
       "    </tr>\n",
       "    <tr>\n",
       "      <th>2021-07-16</th>\n",
       "      <td>NaN</td>\n",
       "      <td>NaN</td>\n",
       "      <td>NaN</td>\n",
       "      <td>NaN</td>\n",
       "      <td>NaN</td>\n",
       "      <td>NaN</td>\n",
       "      <td>NaN</td>\n",
       "      <td>NaN</td>\n",
       "      <td>NaN</td>\n",
       "      <td>NaN</td>\n",
       "      <td>...</td>\n",
       "      <td>NaN</td>\n",
       "      <td>21.0</td>\n",
       "      <td>NaN</td>\n",
       "      <td>46.0</td>\n",
       "      <td>NaN</td>\n",
       "      <td>NaN</td>\n",
       "      <td>NaN</td>\n",
       "      <td>NaN</td>\n",
       "      <td>NaN</td>\n",
       "      <td>153.0</td>\n",
       "    </tr>\n",
       "    <tr>\n",
       "      <th>2021-07-19</th>\n",
       "      <td>NaN</td>\n",
       "      <td>NaN</td>\n",
       "      <td>NaN</td>\n",
       "      <td>NaN</td>\n",
       "      <td>NaN</td>\n",
       "      <td>NaN</td>\n",
       "      <td>NaN</td>\n",
       "      <td>NaN</td>\n",
       "      <td>NaN</td>\n",
       "      <td>13.0</td>\n",
       "      <td>...</td>\n",
       "      <td>NaN</td>\n",
       "      <td>25.0</td>\n",
       "      <td>NaN</td>\n",
       "      <td>58.0</td>\n",
       "      <td>1.0</td>\n",
       "      <td>NaN</td>\n",
       "      <td>NaN</td>\n",
       "      <td>1.0</td>\n",
       "      <td>NaN</td>\n",
       "      <td>158.0</td>\n",
       "    </tr>\n",
       "    <tr>\n",
       "      <th>2021-07-20</th>\n",
       "      <td>NaN</td>\n",
       "      <td>NaN</td>\n",
       "      <td>NaN</td>\n",
       "      <td>NaN</td>\n",
       "      <td>NaN</td>\n",
       "      <td>NaN</td>\n",
       "      <td>NaN</td>\n",
       "      <td>NaN</td>\n",
       "      <td>NaN</td>\n",
       "      <td>11.0</td>\n",
       "      <td>...</td>\n",
       "      <td>NaN</td>\n",
       "      <td>20.0</td>\n",
       "      <td>NaN</td>\n",
       "      <td>56.0</td>\n",
       "      <td>NaN</td>\n",
       "      <td>NaN</td>\n",
       "      <td>NaN</td>\n",
       "      <td>NaN</td>\n",
       "      <td>NaN</td>\n",
       "      <td>119.0</td>\n",
       "    </tr>\n",
       "    <tr>\n",
       "      <th>2021-07-21</th>\n",
       "      <td>NaN</td>\n",
       "      <td>NaN</td>\n",
       "      <td>NaN</td>\n",
       "      <td>NaN</td>\n",
       "      <td>NaN</td>\n",
       "      <td>NaN</td>\n",
       "      <td>NaN</td>\n",
       "      <td>NaN</td>\n",
       "      <td>NaN</td>\n",
       "      <td>9.0</td>\n",
       "      <td>...</td>\n",
       "      <td>NaN</td>\n",
       "      <td>25.0</td>\n",
       "      <td>NaN</td>\n",
       "      <td>61.0</td>\n",
       "      <td>NaN</td>\n",
       "      <td>NaN</td>\n",
       "      <td>NaN</td>\n",
       "      <td>NaN</td>\n",
       "      <td>NaN</td>\n",
       "      <td>128.0</td>\n",
       "    </tr>\n",
       "  </tbody>\n",
       "</table>\n",
       "<p>5 rows × 26 columns</p>\n",
       "</div>"
      ],
      "text/plain": [
       "구정보         강남구  강동구  강북구  강서구  관악구  광진구  구로구  금천구  노원구   도봉구  ...  성북구   송파구  \\\n",
       "신고일                                                            ...              \n",
       "2021-07-15  NaN  NaN  NaN  NaN  NaN  NaN  NaN  NaN  NaN   NaN  ...  NaN   NaN   \n",
       "2021-07-16  NaN  NaN  NaN  NaN  NaN  NaN  NaN  NaN  NaN   NaN  ...  NaN  21.0   \n",
       "2021-07-19  NaN  NaN  NaN  NaN  NaN  NaN  NaN  NaN  NaN  13.0  ...  NaN  25.0   \n",
       "2021-07-20  NaN  NaN  NaN  NaN  NaN  NaN  NaN  NaN  NaN  11.0  ...  NaN  20.0   \n",
       "2021-07-21  NaN  NaN  NaN  NaN  NaN  NaN  NaN  NaN  NaN   9.0  ...  NaN  25.0   \n",
       "\n",
       "구정보         양천구  영등포구  용산구  은평구  종로구   중구  중랑구  total_count  \n",
       "신고일                                                          \n",
       "2021-07-15  NaN  18.0  NaN  NaN  NaN  NaN  NaN         35.0  \n",
       "2021-07-16  NaN  46.0  NaN  NaN  NaN  NaN  NaN        153.0  \n",
       "2021-07-19  NaN  58.0  1.0  NaN  NaN  1.0  NaN        158.0  \n",
       "2021-07-20  NaN  56.0  NaN  NaN  NaN  NaN  NaN        119.0  \n",
       "2021-07-21  NaN  61.0  NaN  NaN  NaN  NaN  NaN        128.0  \n",
       "\n",
       "[5 rows x 26 columns]"
      ]
     },
     "execution_count": 19,
     "metadata": {},
     "output_type": "execute_result"
    }
   ],
   "source": [
    "count_df.head()"
   ]
  },
  {
   "cell_type": "code",
   "execution_count": 20,
   "metadata": {},
   "outputs": [
    {
     "name": "stderr",
     "output_type": "stream",
     "text": [
      "c:\\Users\\SBA\\anaconda3\\Lib\\site-packages\\IPython\\core\\pylabtools.py:152: UserWarning: Glyph 49888 (\\N{HANGUL SYLLABLE SIN}) missing from current font.\n",
      "  fig.canvas.print_figure(bytes_io, **kw)\n",
      "c:\\Users\\SBA\\anaconda3\\Lib\\site-packages\\IPython\\core\\pylabtools.py:152: UserWarning: Glyph 44256 (\\N{HANGUL SYLLABLE GO}) missing from current font.\n",
      "  fig.canvas.print_figure(bytes_io, **kw)\n",
      "c:\\Users\\SBA\\anaconda3\\Lib\\site-packages\\IPython\\core\\pylabtools.py:152: UserWarning: Glyph 51068 (\\N{HANGUL SYLLABLE IL}) missing from current font.\n",
      "  fig.canvas.print_figure(bytes_io, **kw)\n"
     ]
    },
    {
     "data": {
      "image/png": "[encoded data removed]",
      "text/plain": [
       "<Figure size 1200x500 with 1 Axes>"
      ]
     },
     "metadata": {},
     "output_type": "display_data"
    }
   ],
   "source": [
    "import matplotlib.pyplot as plt\n",
    "\n",
    "plt.figure(figsize=(12, 5))\n",
    "count_df['total_count'].plot.line(color='brown')\n",
    "plt.title('total count per day')\n",
    "plt.show();"
   ]
  },
  {
   "cell_type": "code",
   "execution_count": 21,
   "metadata": {},
   "outputs": [
    {
     "data": {
      "application/vnd.plotly.v1+json": {
       "config": {
        "plotlyServerURL": "https://plot.ly"
       },
       "data": [
        {
         "hovertemplate": "신고일=%{x}<br>total_count=%{y}<extra></extra>",
         "legendgroup": "",
         "line": {
          "color": "#636efa",
          "dash": "solid"
         },
         "marker": {
          "symbol": "circle"
         },
         "mode": "lines",
         "name": "",
         "orientation": "v",
         "showlegend": false,
         "type": "scatter",
         "x": [
          "2021-07-15",
          "2021-07-16",
          "2021-07-19",
          "2021-07-20",
          "2021-07-21",
          "2021-07-22",
          "2021-07-23",
          "2021-07-26",
          "2021-07-27",
          "2021-07-28",
          "2021-07-29",
          "2021-07-30",
          "2021-08-02",
          "2021-08-03",
          "2021-08-04",
          "2021-08-05",
          "2021-08-06",
          "2021-08-09",
          "2021-08-10",
          "2021-08-11",
          "2021-08-12",
          "2021-08-13",
          "2021-08-17",
          "2021-08-18",
          "2021-08-19",
          "2021-08-20",
          "2021-08-23",
          "2021-08-24",
          "2021-08-25",
          "2021-08-26",
          "2021-08-27",
          "2021-08-30",
          "2021-08-31",
          "2021-09-01",
          "2021-09-02",
          "2021-09-03",
          "2021-09-06",
          "2021-09-07",
          "2021-09-08",
          "2021-09-09",
          "2021-09-10",
          "2021-09-13",
          "2021-09-14",
          "2021-09-15",
          "2021-09-16",
          "2021-09-17",
          "2021-09-23",
          "2021-09-24",
          "2021-09-27",
          "2021-09-28",
          "2021-09-29",
          "2021-09-30",
          "2021-10-01",
          "2021-10-05",
          "2021-10-06",
          "2021-10-07",
          "2021-10-08",
          "2021-10-12",
          "2021-10-13",
          "2021-10-14",
          "2021-10-15",
          "2021-10-18",
          "2021-10-19",
          "2021-10-20",
          "2021-10-21",
          "2021-10-22",
          "2021-10-25",
          "2021-10-26",
          "2021-10-27",
          "2021-10-28",
          "2021-10-29",
          "2021-11-01",
          "2021-11-02",
          "2021-11-03",
          "2021-11-04",
          "2021-11-05",
          "2021-11-08",
          "2021-11-09",
          "2021-11-10",
          "2021-11-11",
          "2021-11-12",
          "2021-11-15",
          "2021-11-16",
          "2021-11-17",
          "2021-11-18",
          "2021-11-19",
          "2021-11-22",
          "2021-11-23",
          "2021-11-24",
          "2021-11-25",
          "2021-11-26",
          "2021-11-29",
          "2021-11-30",
          "2021-12-01",
          "2021-12-02",
          "2021-12-03",
          "2021-12-06",
          "2021-12-07",
          "2021-12-08",
          "2021-12-09",
          "2021-12-10",
          "2021-12-13",
          "2021-12-14",
          "2021-12-15",
          "2021-12-16",
          "2021-12-17",
          "2021-12-20",
          "2021-12-21",
          "2021-12-22",
          "2021-12-23",
          "2021-12-24",
          "2021-12-27",
          "2021-12-28",
          "2021-12-29",
          "2021-12-30",
          "2021-12-31",
          "2022-01-03",
          "2022-01-04",
          "2022-01-05",
          "2022-01-06",
          "2022-01-07",
          "2022-01-10",
          "2022-01-11",
          "2022-01-12",
          "2022-01-13",
          "2022-01-14",
          "2022-01-17",
          "2022-01-18",
          "2022-01-19",
          "2022-01-20",
          "2022-01-21",
          "2022-01-24",
          "2022-01-25",
          "2022-01-26",
          "2022-01-27",
          "2022-01-28",
          "2022-02-03",
          "2022-02-04",
          "2022-02-07",
          "2022-02-08",
          "2022-02-09",
          "2022-02-10",
          "2022-02-11",
          "2022-02-14",
          "2022-02-15",
          "2022-02-16",
          "2022-02-17",
          "2022-02-18",
          "2022-02-21",
          "2022-02-22",
          "2022-02-23",
          "2022-02-24",
          "2022-02-25",
          "2022-02-28",
          "2022-03-02",
          "2022-03-03",
          "2022-03-04",
          "2022-03-07",
          "2022-03-08",
          "2022-03-10",
          "2022-03-11",
          "2022-03-14",
          "2022-03-15",
          "2022-03-16",
          "2022-03-17",
          "2022-03-18",
          "2022-03-21",
          "2022-03-22",
          "2022-03-23",
          "2022-03-24",
          "2022-03-25",
          "2022-03-28",
          "2022-03-29",
          "2022-03-30",
          "2022-03-31",
          "2022-04-01",
          "2022-04-04",
          "2022-04-05",
          "2022-04-06",
          "2022-04-07",
          "2022-04-08",
          "2022-04-11",
          "2022-04-12",
          "2022-04-13",
          "2022-04-14",
          "2022-04-15",
          "2022-04-18",
          "2022-04-19",
          "2022-04-20",
          "2022-04-21",
          "2022-04-22",
          "2022-04-25",
          "2022-04-26",
          "2022-04-27",
          "2022-04-28",
          "2022-04-29",
          "2022-05-02",
          "2022-05-03",
          "2022-05-04",
          "2022-05-06",
          "2022-05-09",
          "2022-05-10",
          "2022-05-11",
          "2022-05-12",
          "2022-05-13",
          "2022-05-16",
          "2022-05-17",
          "2022-05-18",
          "2022-05-19",
          "2022-05-20",
          "2022-05-23",
          "2022-05-24",
          "2022-05-25",
          "2022-05-26",
          "2022-05-27",
          "2022-05-30",
          "2022-05-31",
          "2022-06-02",
          "2022-06-03",
          "2022-06-07",
          "2022-06-08",
          "2022-06-09",
          "2022-06-10",
          "2022-06-13",
          "2022-06-14",
          "2022-06-15",
          "2022-06-16",
          "2022-06-17",
          "2022-06-20",
          "2022-06-21",
          "2022-06-22",
          "2022-06-23",
          "2022-06-24",
          "2022-06-27",
          "2022-06-28",
          "2022-06-29",
          "2022-06-30",
          "2022-07-01",
          "2022-07-04",
          "2022-07-05",
          "2022-07-06",
          "2022-07-07",
          "2022-07-08",
          "2022-07-11",
          "2022-07-12",
          "2022-07-13",
          "2022-07-14",
          "2022-07-15",
          "2022-07-18",
          "2022-07-19",
          "2022-07-20",
          "2022-07-21",
          "2022-07-22",
          "2022-07-25",
          "2022-07-26",
          "2022-07-27",
          "2022-07-28",
          "2022-07-29",
          "2022-08-01",
          "2022-08-02",
          "2022-08-03",
          "2022-08-04",
          "2022-08-05",
          "2022-08-08",
          "2022-08-09",
          "2022-08-10",
          "2022-08-11",
          "2022-08-12",
          "2022-08-16",
          "2022-08-17",
          "2022-08-18",
          "2022-08-19",
          "2022-08-22",
          "2022-08-23",
          "2022-08-24",
          "2022-08-25",
          "2022-08-26",
          "2022-08-29",
          "2022-08-30",
          "2022-08-31",
          "2022-09-01",
          "2022-09-02",
          "2022-09-05",
          "2022-09-06",
          "2022-09-07",
          "2022-09-08",
          "2022-09-13",
          "2022-09-14",
          "2022-09-15",
          "2022-09-16",
          "2022-09-19",
          "2022-09-20",
          "2022-09-21",
          "2022-09-22",
          "2022-09-23",
          "2022-09-26",
          "2022-09-27",
          "2022-09-28",
          "2022-09-29",
          "2022-09-30",
          "2022-10-04",
          "2022-10-05",
          "2022-10-06",
          "2022-10-07",
          "2022-10-11",
          "2022-10-12",
          "2022-10-13",
          "2022-10-14",
          "2022-10-17",
          "2022-10-18",
          "2022-10-19",
          "2022-10-20",
          "2022-10-21",
          "2022-10-24",
          "2022-10-25",
          "2022-10-26",
          "2022-10-27",
          "2022-10-28",
          "2022-10-31",
          "2022-11-01",
          "2022-11-02",
          "2022-11-03",
          "2022-11-04",
          "2022-11-07",
          "2022-11-08",
          "2022-11-09",
          "2022-11-10",
          "2022-11-11",
          "2022-11-14",
          "2022-11-15",
          "2022-11-16",
          "2022-11-17",
          "2022-11-18",
          "2022-11-21",
          "2022-11-22",
          "2022-11-23",
          "2022-11-24",
          "2022-11-25",
          "2022-11-28",
          "2022-11-29",
          "2022-11-30",
          "2022-12-01",
          "2022-12-02",
          "2022-12-05",
          "2022-12-06",
          "2022-12-07",
          "2022-12-08",
          "2022-12-09",
          "2022-12-12",
          "2022-12-13",
          "2022-12-14",
          "2022-12-15",
          "2022-12-16",
          "2022-12-19",
          "2022-12-20",
          "2022-12-21",
          "2022-12-22",
          "2022-12-23",
          "2022-12-26",
          "2022-12-27",
          "2022-12-28",
          "2022-12-29",
          "2022-12-30",
          "2023-01-02",
          "2023-01-03",
          "2023-01-04",
          "2023-01-05",
          "2023-01-06",
          "2023-01-09",
          "2023-01-10",
          "2023-01-11",
          "2023-01-12",
          "2023-01-13",
          "2023-01-16",
          "2023-01-17",
          "2023-01-18",
          "2023-01-19",
          "2023-01-20",
          "2023-01-25",
          "2023-01-26",
          "2023-01-27",
          "2023-01-30",
          "2023-01-31",
          "2023-02-01",
          "2023-02-02",
          "2023-02-03",
          "2023-02-06",
          "2023-02-07",
          "2023-02-08",
          "2023-02-09",
          "2023-02-10",
          "2023-02-13",
          "2023-02-14",
          "2023-02-15",
          "2023-02-16",
          "2023-02-17",
          "2023-02-20",
          "2023-02-21",
          "2023-02-22",
          "2023-02-23",
          "2023-02-24",
          "2023-02-27",
          "2023-02-28",
          "2023-03-02",
          "2023-03-03",
          "2023-03-06",
          "2023-03-07",
          "2023-03-08",
          "2023-03-09",
          "2023-03-10",
          "2023-03-13",
          "2023-03-14",
          "2023-03-15",
          "2023-03-16",
          "2023-03-17",
          "2023-03-20",
          "2023-03-21",
          "2023-03-22",
          "2023-03-23",
          "2023-03-24",
          "2023-03-27",
          "2023-03-28",
          "2023-03-29",
          "2023-03-30",
          "2023-03-31",
          "2023-04-03",
          "2023-04-04",
          "2023-04-05",
          "2023-04-06",
          "2023-04-07",
          "2023-04-10",
          "2023-04-11",
          "2023-04-12",
          "2023-04-13",
          "2023-04-14",
          "2023-04-17",
          "2023-04-18",
          "2023-04-19",
          "2023-04-20",
          "2023-04-21",
          "2023-04-24",
          "2023-04-25",
          "2023-04-26",
          "2023-04-27",
          "2023-04-28",
          "2023-05-02",
          "2023-05-03",
          "2023-05-04",
          "2023-05-08",
          "2023-05-09",
          "2023-05-10",
          "2023-05-11",
          "2023-05-12",
          "2023-05-15",
          "2023-05-16",
          "2023-05-17",
          "2023-05-18",
          "2023-05-19",
          "2023-05-22",
          "2023-05-23",
          "2023-05-24",
          "2023-05-25",
          "2023-05-26",
          "2023-05-29",
          "2023-05-30",
          "2023-05-31",
          "2023-06-01",
          "2023-06-02",
          "2023-06-05",
          "2023-06-07",
          "2023-06-08",
          "2023-06-09",
          "2023-06-12",
          "2023-06-13",
          "2023-06-14",
          "2023-06-15",
          "2023-06-16",
          "2023-06-19",
          "2023-06-20",
          "2023-06-21",
          "2023-06-22",
          "2023-06-23",
          "2023-06-26",
          "2023-06-27",
          "2023-06-28",
          "2023-06-29",
          "2023-06-30",
          "2023-07-03",
          "2023-07-04",
          "2023-07-05",
          "2023-07-06",
          "2023-07-07",
          "2023-07-10",
          "2023-07-11",
          "2023-07-12",
          "2023-07-13",
          "2023-07-14"
         ],
         "xaxis": "x",
         "y": [
          35,
          153,
          158,
          119,
          128,
          124,
          115,
          111,
          108,
          104,
          86,
          114,
          124,
          156,
          146,
          164,
          168,
          141,
          125,
          147,
          164,
          113,
          162,
          144,
          177,
          172,
          147,
          122,
          167,
          171,
          68,
          88,
          74,
          199,
          182,
          239,
          267,
          151,
          208,
          202,
          248,
          206,
          224,
          230,
          230,
          196,
          278,
          239,
          261,
          217,
          134,
          149,
          175,
          222,
          124,
          216,
          141,
          247,
          221,
          242,
          164,
          243,
          166,
          161,
          152,
          161,
          238,
          201,
          174,
          198,
          191,
          235,
          197,
          224,
          202,
          235,
          134,
          138,
          169,
          187,
          173,
          223,
          256,
          207,
          221,
          180,
          189,
          202,
          230,
          232,
          164,
          182,
          95,
          206,
          228,
          239,
          227,
          224,
          209,
          211,
          194,
          235,
          250,
          191,
          229,
          215,
          257,
          239,
          291,
          220,
          202,
          246,
          189,
          150,
          161,
          122,
          235,
          299,
          290,
          312,
          310,
          362,
          277,
          305,
          298,
          282,
          356,
          285,
          212,
          279,
          292,
          333,
          259,
          258,
          199,
          171,
          329,
          323,
          375,
          292,
          384,
          325,
          334,
          374,
          401,
          267,
          325,
          262,
          315,
          296,
          266,
          292,
          278,
          306,
          335,
          382,
          303,
          382,
          370,
          443,
          384,
          312,
          401,
          364,
          414,
          223,
          308,
          369,
          131,
          95,
          73,
          257,
          217,
          184,
          230,
          266,
          300,
          290,
          225,
          237,
          277,
          362,
          315,
          281,
          237,
          163,
          267,
          213,
          198,
          220,
          221,
          270,
          193,
          199,
          228,
          153,
          298,
          265,
          270,
          307,
          315,
          287,
          289,
          228,
          260,
          263,
          195,
          244,
          284,
          273,
          327,
          291,
          262,
          245,
          252,
          296,
          265,
          343,
          313,
          412,
          311,
          283,
          269,
          373,
          263,
          207,
          254,
          265,
          319,
          332,
          252,
          132,
          239,
          259,
          188,
          129,
          72,
          275,
          353,
          344,
          331,
          294,
          261,
          356,
          280,
          107,
          264,
          249,
          359,
          294,
          318,
          170,
          260,
          337,
          257,
          269,
          214,
          181,
          260,
          277,
          245,
          369,
          306,
          238,
          127,
          279,
          376,
          288,
          381,
          375,
          262,
          272,
          343,
          300,
          260,
          242,
          210,
          255,
          141,
          204,
          344,
          299,
          150,
          319,
          363,
          319,
          438,
          352,
          369,
          265,
          304,
          330,
          300,
          295,
          246,
          279,
          262,
          244,
          248,
          277,
          322,
          275,
          280,
          248,
          179,
          202,
          213,
          207,
          190,
          218,
          187,
          196,
          215,
          215,
          243,
          227,
          212,
          181,
          134,
          271,
          273,
          228,
          266,
          295,
          273,
          186,
          154,
          145,
          147,
          132,
          131,
          122,
          127,
          117,
          106,
          95,
          51,
          51,
          121,
          151,
          144,
          177,
          154,
          201,
          171,
          196,
          211,
          229,
          306,
          266,
          162,
          153,
          125,
          202,
          226,
          85,
          168,
          175,
          207,
          213,
          176,
          130,
          218,
          261,
          241,
          277,
          213,
          234,
          214,
          196,
          193,
          143,
          76,
          199,
          192,
          161,
          175,
          240,
          166,
          82,
          129,
          185,
          144,
          172,
          165,
          187,
          246,
          174,
          157,
          190,
          146,
          207,
          175,
          165,
          139,
          114,
          189,
          156,
          192,
          109,
          135,
          130,
          129,
          170,
          125,
          183,
          134,
          111,
          133,
          129,
          158,
          128,
          98,
          159,
          121,
          372,
          337,
          327,
          236,
          242,
          268,
          298,
          252,
          187,
          185,
          306,
          273,
          77,
          216,
          239,
          303,
          220,
          303,
          280,
          213,
          345,
          195,
          330,
          279,
          255,
          320,
          169,
          190,
          243,
          178,
          352,
          287,
          273,
          335,
          341,
          305,
          301,
          278,
          302,
          276,
          266,
          275,
          272,
          309,
          287,
          225,
          231,
          254,
          1,
          203,
          222,
          312,
          374,
          341,
          328,
          318,
          278,
          335,
          293,
          300,
          284,
          230,
          259,
          268,
          136,
          253,
          220,
          184,
          195,
          209,
          128,
          169,
          346,
          279,
          290,
          249,
          256,
          286,
          201,
          300,
          165,
          120
         ],
         "yaxis": "y"
        }
       ],
       "layout": {
        "legend": {
         "tracegroupgap": 0
        },
        "template": {
         "data": {
          "bar": [
           {
            "error_x": {
             "color": "#2a3f5f"
            },
            "error_y": {
             "color": "#2a3f5f"
            },
            "marker": {
             "line": {
              "color": "#E5ECF6",
              "width": 0.5
             },
             "pattern": {
              "fillmode": "overlay",
              "size": 10,
              "solidity": 0.2
             }
            },
            "type": "bar"
           }
          ],
          "barpolar": [
           {
            "marker": {
             "line": {
              "color": "#E5ECF6",
              "width": 0.5
             },
             "pattern": {
              "fillmode": "overlay",
              "size": 10,
              "solidity": 0.2
             }
            },
            "type": "barpolar"
           }
          ],
          "carpet": [
           {
            "aaxis": {
             "endlinecolor": "#2a3f5f",
             "gridcolor": "white",
             "linecolor": "white",
             "minorgridcolor": "white",
             "startlinecolor": "#2a3f5f"
            },
            "baxis": {
             "endlinecolor": "#2a3f5f",
             "gridcolor": "white",
             "linecolor": "white",
             "minorgridcolor": "white",
             "startlinecolor": "#2a3f5f"
            },
            "type": "carpet"
           }
          ],
          "choropleth": [
           {
            "colorbar": {
             "outlinewidth": 0,
             "ticks": ""
            },
            "type": "choropleth"
           }
          ],
          "contour": [
           {
            "colorbar": {
             "outlinewidth": 0,
             "ticks": ""
            },
            "colorscale": [
             [
              0,
              "#0d0887"
             ],
             [
              0.1111111111111111,
              "#46039f"
             ],
             [
              0.2222222222222222,
              "#7201a8"
             ],
             [
              0.3333333333333333,
              "#9c179e"
             ],
             [
              0.4444444444444444,
              "#bd3786"
             ],
             [
              0.5555555555555556,
              "#d8576b"
             ],
             [
              0.6666666666666666,
              "#ed7953"
             ],
             [
              0.7777777777777778,
              "#fb9f3a"
             ],
             [
              0.8888888888888888,
              "#fdca26"
             ],
             [
              1,
              "#f0f921"
             ]
            ],
            "type": "contour"
           }
          ],
          "contourcarpet": [
           {
            "colorbar": {
             "outlinewidth": 0,
             "ticks": ""
            },
            "type": "contourcarpet"
           }
          ],
          "heatmap": [
           {
            "colorbar": {
             "outlinewidth": 0,
             "ticks": ""
            },
            "colorscale": [
             [
              0,
              "#0d0887"
             ],
             [
              0.1111111111111111,
              "#46039f"
             ],
             [
              0.2222222222222222,
              "#7201a8"
             ],
             [
              0.3333333333333333,
              "#9c179e"
             ],
             [
              0.4444444444444444,
              "#bd3786"
             ],
             [
              0.5555555555555556,
              "#d8576b"
             ],
             [
              0.6666666666666666,
              "#ed7953"
             ],
             [
              0.7777777777777778,
              "#fb9f3a"
             ],
             [
              0.8888888888888888,
              "#fdca26"
             ],
             [
              1,
              "#f0f921"
             ]
            ],
            "type": "heatmap"
           }
          ],
          "heatmapgl": [
           {
            "colorbar": {
             "outlinewidth": 0,
             "ticks": ""
            },
            "colorscale": [
             [
              0,
              "#0d0887"
             ],
             [
              0.1111111111111111,
              "#46039f"
             ],
             [
              0.2222222222222222,
              "#7201a8"
             ],
             [
              0.3333333333333333,
              "#9c179e"
             ],
             [
              0.4444444444444444,
              "#bd3786"
             ],
             [
              0.5555555555555556,
              "#d8576b"
             ],
             [
              0.6666666666666666,
              "#ed7953"
             ],
             [
              0.7777777777777778,
              "#fb9f3a"
             ],
             [
              0.8888888888888888,
              "#fdca26"
             ],
             [
              1,
              "#f0f921"
             ]
            ],
            "type": "heatmapgl"
           }
          ],
          "histogram": [
           {
            "marker": {
             "pattern": {
              "fillmode": "overlay",
              "size": 10,
              "solidity": 0.2
             }
            },
            "type": "histogram"
           }
          ],
          "histogram2d": [
           {
            "colorbar": {
             "outlinewidth": 0,
             "ticks": ""
            },
            "colorscale": [
             [
              0,
              "#0d0887"
             ],
             [
              0.1111111111111111,
              "#46039f"
             ],
             [
              0.2222222222222222,
              "#7201a8"
             ],
             [
              0.3333333333333333,
              "#9c179e"
             ],
             [
              0.4444444444444444,
              "#bd3786"
             ],
             [
              0.5555555555555556,
              "#d8576b"
             ],
             [
              0.6666666666666666,
              "#ed7953"
             ],
             [
              0.7777777777777778,
              "#fb9f3a"
             ],
             [
              0.8888888888888888,
              "#fdca26"
             ],
             [
              1,
              "#f0f921"
             ]
            ],
            "type": "histogram2d"
           }
          ],
          "histogram2dcontour": [
           {
            "colorbar": {
             "outlinewidth": 0,
             "ticks": ""
            },
            "colorscale": [
             [
              0,
              "#0d0887"
             ],
             [
              0.1111111111111111,
              "#46039f"
             ],
             [
              0.2222222222222222,
              "#7201a8"
             ],
             [
              0.3333333333333333,
              "#9c179e"
             ],
             [
              0.4444444444444444,
              "#bd3786"
             ],
             [
              0.5555555555555556,
              "#d8576b"
             ],
             [
              0.6666666666666666,
              "#ed7953"
             ],
             [
              0.7777777777777778,
              "#fb9f3a"
             ],
             [
              0.8888888888888888,
              "#fdca26"
             ],
             [
              1,
              "#f0f921"
             ]
            ],
            "type": "histogram2dcontour"
           }
          ],
          "mesh3d": [
           {
            "colorbar": {
             "outlinewidth": 0,
             "ticks": ""
            },
            "type": "mesh3d"
           }
          ],
          "parcoords": [
           {
            "line": {
             "colorbar": {
              "outlinewidth": 0,
              "ticks": ""
             }
            },
            "type": "parcoords"
           }
          ],
          "pie": [
           {
            "automargin": true,
            "type": "pie"
           }
          ],
          "scatter": [
           {
            "fillpattern": {
             "fillmode": "overlay",
             "size": 10,
             "solidity": 0.2
            },
            "type": "scatter"
           }
          ],
          "scatter3d": [
           {
            "line": {
             "colorbar": {
              "outlinewidth": 0,
              "ticks": ""
             }
            },
            "marker": {
             "colorbar": {
              "outlinewidth": 0,
              "ticks": ""
             }
            },
            "type": "scatter3d"
           }
          ],
          "scattercarpet": [
           {
            "marker": {
             "colorbar": {
              "outlinewidth": 0,
              "ticks": ""
             }
            },
            "type": "scattercarpet"
           }
          ],
          "scattergeo": [
           {
            "marker": {
             "colorbar": {
              "outlinewidth": 0,
              "ticks": ""
             }
            },
            "type": "scattergeo"
           }
          ],
          "scattergl": [
           {
            "marker": {
             "colorbar": {
              "outlinewidth": 0,
              "ticks": ""
             }
            },
            "type": "scattergl"
           }
          ],
          "scattermapbox": [
           {
            "marker": {
             "colorbar": {
              "outlinewidth": 0,
              "ticks": ""
             }
            },
            "type": "scattermapbox"
           }
          ],
          "scatterpolar": [
           {
            "marker": {
             "colorbar": {
              "outlinewidth": 0,
              "ticks": ""
             }
            },
            "type": "scatterpolar"
           }
          ],
          "scatterpolargl": [
           {
            "marker": {
             "colorbar": {
              "outlinewidth": 0,
              "ticks": ""
             }
            },
            "type": "scatterpolargl"
           }
          ],
          "scatterternary": [
           {
            "marker": {
             "colorbar": {
              "outlinewidth": 0,
              "ticks": ""
             }
            },
            "type": "scatterternary"
           }
          ],
          "surface": [
           {
            "colorbar": {
             "outlinewidth": 0,
             "ticks": ""
            },
            "colorscale": [
             [
              0,
              "#0d0887"
             ],
             [
              0.1111111111111111,
              "#46039f"
             ],
             [
              0.2222222222222222,
              "#7201a8"
             ],
             [
              0.3333333333333333,
              "#9c179e"
             ],
             [
              0.4444444444444444,
              "#bd3786"
             ],
             [
              0.5555555555555556,
              "#d8576b"
             ],
             [
              0.6666666666666666,
              "#ed7953"
             ],
             [
              0.7777777777777778,
              "#fb9f3a"
             ],
             [
              0.8888888888888888,
              "#fdca26"
             ],
             [
              1,
              "#f0f921"
             ]
            ],
            "type": "surface"
           }
          ],
          "table": [
           {
            "cells": {
             "fill": {
              "color": "#EBF0F8"
             },
             "line": {
              "color": "white"
             }
            },
            "header": {
             "fill": {
              "color": "#C8D4E3"
             },
             "line": {
              "color": "white"
             }
            },
            "type": "table"
           }
          ]
         },
         "layout": {
          "annotationdefaults": {
           "arrowcolor": "#2a3f5f",
           "arrowhead": 0,
           "arrowwidth": 1
          },
          "autotypenumbers": "strict",
          "coloraxis": {
           "colorbar": {
            "outlinewidth": 0,
            "ticks": ""
           }
          },
          "colorscale": {
           "diverging": [
            [
             0,
             "#8e0152"
            ],
            [
             0.1,
             "#c51b7d"
            ],
            [
             0.2,
             "#de77ae"
            ],
            [
             0.3,
             "#f1b6da"
            ],
            [
             0.4,
             "#fde0ef"
            ],
            [
             0.5,
             "#f7f7f7"
            ],
            [
             0.6,
             "#e6f5d0"
            ],
            [
             0.7,
             "#b8e186"
            ],
            [
             0.8,
             "#7fbc41"
            ],
            [
             0.9,
             "#4d9221"
            ],
            [
             1,
             "#276419"
            ]
           ],
           "sequential": [
            [
             0,
             "#0d0887"
            ],
            [
             0.1111111111111111,
             "#46039f"
            ],
            [
             0.2222222222222222,
             "#7201a8"
            ],
            [
             0.3333333333333333,
             "#9c179e"
            ],
            [
             0.4444444444444444,
             "#bd3786"
            ],
            [
             0.5555555555555556,
             "#d8576b"
            ],
            [
             0.6666666666666666,
             "#ed7953"
            ],
            [
             0.7777777777777778,
             "#fb9f3a"
            ],
            [
             0.8888888888888888,
             "#fdca26"
            ],
            [
             1,
             "#f0f921"
            ]
           ],
           "sequentialminus": [
            [
             0,
             "#0d0887"
            ],
            [
             0.1111111111111111,
             "#46039f"
            ],
            [
             0.2222222222222222,
             "#7201a8"
            ],
            [
             0.3333333333333333,
             "#9c179e"
            ],
            [
             0.4444444444444444,
             "#bd3786"
            ],
            [
             0.5555555555555556,
             "#d8576b"
            ],
            [
             0.6666666666666666,
             "#ed7953"
            ],
            [
             0.7777777777777778,
             "#fb9f3a"
            ],
            [
             0.8888888888888888,
             "#fdca26"
            ],
            [
             1,
             "#f0f921"
            ]
           ]
          },
          "colorway": [
           "#636efa",
           "#EF553B",
           "#00cc96",
           "#ab63fa",
           "#FFA15A",
           "#19d3f3",
           "#FF6692",
           "#B6E880",
           "#FF97FF",
           "#FECB52"
          ],
          "font": {
           "color": "#2a3f5f"
          },
          "geo": {
           "bgcolor": "white",
           "lakecolor": "white",
           "landcolor": "#E5ECF6",
           "showlakes": true,
           "showland": true,
           "subunitcolor": "white"
          },
          "hoverlabel": {
           "align": "left"
          },
          "hovermode": "closest",
          "mapbox": {
           "style": "light"
          },
          "paper_bgcolor": "white",
          "plot_bgcolor": "#E5ECF6",
          "polar": {
           "angularaxis": {
            "gridcolor": "white",
            "linecolor": "white",
            "ticks": ""
           },
           "bgcolor": "#E5ECF6",
           "radialaxis": {
            "gridcolor": "white",
            "linecolor": "white",
            "ticks": ""
           }
          },
          "scene": {
           "xaxis": {
            "backgroundcolor": "#E5ECF6",
            "gridcolor": "white",
            "gridwidth": 2,
            "linecolor": "white",
            "showbackground": true,
            "ticks": "",
            "zerolinecolor": "white"
           },
           "yaxis": {
            "backgroundcolor": "#E5ECF6",
            "gridcolor": "white",
            "gridwidth": 2,
            "linecolor": "white",
            "showbackground": true,
            "ticks": "",
            "zerolinecolor": "white"
           },
           "zaxis": {
            "backgroundcolor": "#E5ECF6",
            "gridcolor": "white",
            "gridwidth": 2,
            "linecolor": "white",
            "showbackground": true,
            "ticks": "",
            "zerolinecolor": "white"
           }
          },
          "shapedefaults": {
           "line": {
            "color": "#2a3f5f"
           }
          },
          "ternary": {
           "aaxis": {
            "gridcolor": "white",
            "linecolor": "white",
            "ticks": ""
           },
           "baxis": {
            "gridcolor": "white",
            "linecolor": "white",
            "ticks": ""
           },
           "bgcolor": "#E5ECF6",
           "caxis": {
            "gridcolor": "white",
            "linecolor": "white",
            "ticks": ""
           }
          },
          "title": {
           "x": 0.05
          },
          "xaxis": {
           "automargin": true,
           "gridcolor": "white",
           "linecolor": "white",
           "ticks": "",
           "title": {
            "standoff": 15
           },
           "zerolinecolor": "white",
           "zerolinewidth": 2
          },
          "yaxis": {
           "automargin": true,
           "gridcolor": "white",
           "linecolor": "white",
           "ticks": "",
           "title": {
            "standoff": 15
           },
           "zerolinecolor": "white",
           "zerolinewidth": 2
          }
         }
        },
        "title": {
         "text": "서울 전 지역(25개 구) 일 견인 건수 합계"
        },
        "xaxis": {
         "anchor": "y",
         "domain": [
          0,
          1
         ],
         "title": {
          "text": "신고일"
         }
        },
        "yaxis": {
         "anchor": "x",
         "domain": [
          0,
          1
         ],
         "title": {
          "text": "total_count"
         }
        }
       }
      }
     },
     "metadata": {},
     "output_type": "display_data"
    }
   ],
   "source": [
    "import plotly.express as px\n",
    "\n",
    "fig = px.line(count_df, y='total_count', title='서울 전 지역(25개 구) 일 견인 건수 합계')\n",
    "fig.show();"
   ]
  },
  {
   "cell_type": "code",
   "execution_count": null,
   "metadata": {},
   "outputs": [],
   "source": []
  }
 ],
 "metadata": {
  "kernelspec": {
   "display_name": "base",
   "language": "python",
   "name": "python3"
  },
  "language_info": {
   "codemirror_mode": {
    "name": "ipython",
    "version": 3
   },
   "file_extension": ".py",
   "mimetype": "text/x-python",
   "name": "python",
   "nbconvert_exporter": "python",
   "pygments_lexer": "ipython3",
   "version": "3.11.5"
  }
 },
 "nbformat": 4,
 "nbformat_minor": 2
}
