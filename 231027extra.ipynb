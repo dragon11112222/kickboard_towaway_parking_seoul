{
 "cells": [
  {
   "cell_type": "code",
   "execution_count": 1,
   "metadata": {},
   "outputs": [],
   "source": [
    "import pandas as pd\n",
    "\n",
    "parking_df = pd.read_csv('data/서울시 전동킥보드 주차구역 현황.csv', encoding = 'cp949')"
   ]
  },
  {
   "cell_type": "code",
   "execution_count": 2,
   "metadata": {},
   "outputs": [
    {
     "data": {
      "text/html": [
       "<div>\n",
       "<style scoped>\n",
       "    .dataframe tbody tr th:only-of-type {\n",
       "        vertical-align: middle;\n",
       "    }\n",
       "\n",
       "    .dataframe tbody tr th {\n",
       "        vertical-align: top;\n",
       "    }\n",
       "\n",
       "    .dataframe thead th {\n",
       "        text-align: right;\n",
       "    }\n",
       "</style>\n",
       "<table border=\"1\" class=\"dataframe\">\n",
       "  <thead>\n",
       "    <tr style=\"text-align: right;\">\n",
       "      <th></th>\n",
       "      <th>순번</th>\n",
       "      <th>시군구명</th>\n",
       "      <th>주소</th>\n",
       "      <th>상세위치</th>\n",
       "      <th>거치대 유무</th>\n",
       "      <th>거치대 크기</th>\n",
       "    </tr>\n",
       "  </thead>\n",
       "  <tbody>\n",
       "    <tr>\n",
       "      <th>0</th>\n",
       "      <td>1</td>\n",
       "      <td>종로구</td>\n",
       "      <td>팔판동 115-63</td>\n",
       "      <td>청와대 춘추문 맞은편 인근</td>\n",
       "      <td>Y</td>\n",
       "      <td>6.0</td>\n",
       "    </tr>\n",
       "    <tr>\n",
       "      <th>1</th>\n",
       "      <td>2</td>\n",
       "      <td>종로구</td>\n",
       "      <td>연건동 218-1</td>\n",
       "      <td>KT광화문 혜화지사 앞</td>\n",
       "      <td>Y</td>\n",
       "      <td>6.0</td>\n",
       "    </tr>\n",
       "    <tr>\n",
       "      <th>2</th>\n",
       "      <td>3</td>\n",
       "      <td>종로구</td>\n",
       "      <td>연건동 178-3</td>\n",
       "      <td>홍익대학교 대학로 맞은편</td>\n",
       "      <td>Y</td>\n",
       "      <td>6.0</td>\n",
       "    </tr>\n",
       "    <tr>\n",
       "      <th>3</th>\n",
       "      <td>4</td>\n",
       "      <td>종로구</td>\n",
       "      <td>동승동 1-24</td>\n",
       "      <td>대학로 마로니에공원 앞</td>\n",
       "      <td>Y</td>\n",
       "      <td>8.0</td>\n",
       "    </tr>\n",
       "    <tr>\n",
       "      <th>4</th>\n",
       "      <td>5</td>\n",
       "      <td>종로구</td>\n",
       "      <td>와룡동 75-4</td>\n",
       "      <td>연악사 맞은편</td>\n",
       "      <td>Y</td>\n",
       "      <td>8.0</td>\n",
       "    </tr>\n",
       "  </tbody>\n",
       "</table>\n",
       "</div>"
      ],
      "text/plain": [
       "   순번 시군구명          주소            상세위치 거치대 유무  거치대 크기\n",
       "0   1  종로구  팔판동 115-63  청와대 춘추문 맞은편 인근      Y     6.0\n",
       "1   2  종로구   연건동 218-1    KT광화문 혜화지사 앞      Y     6.0\n",
       "2   3  종로구   연건동 178-3   홍익대학교 대학로 맞은편      Y     6.0\n",
       "3   4  종로구    동승동 1-24    대학로 마로니에공원 앞      Y     8.0\n",
       "4   5  종로구    와룡동 75-4         연악사 맞은편      Y     8.0"
      ]
     },
     "execution_count": 2,
     "metadata": {},
     "output_type": "execute_result"
    }
   ],
   "source": [
    "parking_df.head()"
   ]
  },
  {
   "cell_type": "code",
   "execution_count": 3,
   "metadata": {},
   "outputs": [
    {
     "data": {
      "text/html": [
       "<div>\n",
       "<style scoped>\n",
       "    .dataframe tbody tr th:only-of-type {\n",
       "        vertical-align: middle;\n",
       "    }\n",
       "\n",
       "    .dataframe tbody tr th {\n",
       "        vertical-align: top;\n",
       "    }\n",
       "\n",
       "    .dataframe thead th {\n",
       "        text-align: right;\n",
       "    }\n",
       "</style>\n",
       "<table border=\"1\" class=\"dataframe\">\n",
       "  <thead>\n",
       "    <tr style=\"text-align: right;\">\n",
       "      <th></th>\n",
       "      <th>순번</th>\n",
       "      <th>시군구명</th>\n",
       "      <th>주소</th>\n",
       "      <th>상세위치</th>\n",
       "      <th>거치대 유무</th>\n",
       "      <th>거치대 크기</th>\n",
       "    </tr>\n",
       "  </thead>\n",
       "  <tbody>\n",
       "    <tr>\n",
       "      <th>81</th>\n",
       "      <td>82</td>\n",
       "      <td>강서구</td>\n",
       "      <td>마곡동 727-1428</td>\n",
       "      <td>마곡역 3번 출구 인근</td>\n",
       "      <td>N</td>\n",
       "      <td>NaN</td>\n",
       "    </tr>\n",
       "    <tr>\n",
       "      <th>82</th>\n",
       "      <td>83</td>\n",
       "      <td>강서구</td>\n",
       "      <td>마곡동 727-1222</td>\n",
       "      <td>발산역 8번 출구 앞</td>\n",
       "      <td>Y</td>\n",
       "      <td>8.0</td>\n",
       "    </tr>\n",
       "    <tr>\n",
       "      <th>83</th>\n",
       "      <td>84</td>\n",
       "      <td>강서구</td>\n",
       "      <td>공항대로168</td>\n",
       "      <td>마곡역6번출구 앞</td>\n",
       "      <td>Y</td>\n",
       "      <td>6.0</td>\n",
       "    </tr>\n",
       "    <tr>\n",
       "      <th>84</th>\n",
       "      <td>85</td>\n",
       "      <td>강서구</td>\n",
       "      <td>마곡동 799</td>\n",
       "      <td>마곡역 5번 출구마곡역 /4,5번 출구 사이</td>\n",
       "      <td>Y</td>\n",
       "      <td>6.0</td>\n",
       "    </tr>\n",
       "    <tr>\n",
       "      <th>85</th>\n",
       "      <td>86</td>\n",
       "      <td>강서구</td>\n",
       "      <td>마곡동 799</td>\n",
       "      <td>마곡역 4번 출구/ 출구 자전거 도로 측면</td>\n",
       "      <td>Y</td>\n",
       "      <td>6.0</td>\n",
       "    </tr>\n",
       "    <tr>\n",
       "      <th>86</th>\n",
       "      <td>87</td>\n",
       "      <td>강서구</td>\n",
       "      <td>마곡중앙5로 6</td>\n",
       "      <td>마곡나루역1번 출구/출입구 측면</td>\n",
       "      <td>Y</td>\n",
       "      <td>6.0</td>\n",
       "    </tr>\n",
       "    <tr>\n",
       "      <th>87</th>\n",
       "      <td>88</td>\n",
       "      <td>강서구</td>\n",
       "      <td>마곡중앙5로 6</td>\n",
       "      <td>마곡나루역 2번 출구</td>\n",
       "      <td>Y</td>\n",
       "      <td>6.0</td>\n",
       "    </tr>\n",
       "    <tr>\n",
       "      <th>88</th>\n",
       "      <td>89</td>\n",
       "      <td>강서구</td>\n",
       "      <td>마곡동 767</td>\n",
       "      <td>마곡광장 입구/입구 자전거 도로 측면</td>\n",
       "      <td>Y</td>\n",
       "      <td>6.0</td>\n",
       "    </tr>\n",
       "    <tr>\n",
       "      <th>89</th>\n",
       "      <td>90</td>\n",
       "      <td>강서구</td>\n",
       "      <td>마곡나루역 4번출구</td>\n",
       "      <td>마곡나루역 4번 출구/출입구 측면</td>\n",
       "      <td>Y</td>\n",
       "      <td>6.0</td>\n",
       "    </tr>\n",
       "    <tr>\n",
       "      <th>90</th>\n",
       "      <td>91</td>\n",
       "      <td>강서구</td>\n",
       "      <td>발산역 1번 출구</td>\n",
       "      <td>발산역 1번 출구/출구 바로 앞 따릉이 거치대 맞은편</td>\n",
       "      <td>Y</td>\n",
       "      <td>6.0</td>\n",
       "    </tr>\n",
       "    <tr>\n",
       "      <th>91</th>\n",
       "      <td>92</td>\n",
       "      <td>강서구</td>\n",
       "      <td>발산역 3,4번 출구</td>\n",
       "      <td>발산역 3,4번 출구 사이/출구 사이 엘리베이터 측면</td>\n",
       "      <td>Y</td>\n",
       "      <td>6.0</td>\n",
       "    </tr>\n",
       "    <tr>\n",
       "      <th>92</th>\n",
       "      <td>93</td>\n",
       "      <td>강서구</td>\n",
       "      <td>발산역 4번 출구</td>\n",
       "      <td>발산역 4번 출구/자전거 거치대 끝나는 부근</td>\n",
       "      <td>Y</td>\n",
       "      <td>6.0</td>\n",
       "    </tr>\n",
       "    <tr>\n",
       "      <th>93</th>\n",
       "      <td>94</td>\n",
       "      <td>강서구</td>\n",
       "      <td>공항대로 227 앞</td>\n",
       "      <td>발산9번, 마곡3번 출구 사이</td>\n",
       "      <td>Y</td>\n",
       "      <td>6.0</td>\n",
       "    </tr>\n",
       "    <tr>\n",
       "      <th>94</th>\n",
       "      <td>95</td>\n",
       "      <td>강서구</td>\n",
       "      <td>화곡로 416 앞</td>\n",
       "      <td>가양역 7번출구</td>\n",
       "      <td>Y</td>\n",
       "      <td>6.0</td>\n",
       "    </tr>\n",
       "    <tr>\n",
       "      <th>95</th>\n",
       "      <td>96</td>\n",
       "      <td>강서구</td>\n",
       "      <td>횡단보도와 엘리베이터 사이</td>\n",
       "      <td>가양역8, 9번 출구 사이</td>\n",
       "      <td>Y</td>\n",
       "      <td>6.0</td>\n",
       "    </tr>\n",
       "    <tr>\n",
       "      <th>96</th>\n",
       "      <td>97</td>\n",
       "      <td>강서구</td>\n",
       "      <td>8번 출입구 측면</td>\n",
       "      <td>가양역 8번 출구 앞</td>\n",
       "      <td>Y</td>\n",
       "      <td>6.0</td>\n",
       "    </tr>\n",
       "    <tr>\n",
       "      <th>97</th>\n",
       "      <td>98</td>\n",
       "      <td>강서구</td>\n",
       "      <td>빠리바게트 앞 화단 쪽</td>\n",
       "      <td>가양역 6, 7번 출구 사이</td>\n",
       "      <td>Y</td>\n",
       "      <td>6.0</td>\n",
       "    </tr>\n",
       "    <tr>\n",
       "      <th>98</th>\n",
       "      <td>99</td>\n",
       "      <td>강서구</td>\n",
       "      <td>1번 출입구 측면</td>\n",
       "      <td>등촌역 1번 출구</td>\n",
       "      <td>Y</td>\n",
       "      <td>6.0</td>\n",
       "    </tr>\n",
       "    <tr>\n",
       "      <th>99</th>\n",
       "      <td>100</td>\n",
       "      <td>강서구</td>\n",
       "      <td>출입구 측면</td>\n",
       "      <td>증미역 1번 출구</td>\n",
       "      <td>Y</td>\n",
       "      <td>6.0</td>\n",
       "    </tr>\n",
       "    <tr>\n",
       "      <th>100</th>\n",
       "      <td>101</td>\n",
       "      <td>강서구</td>\n",
       "      <td>출입구 측면</td>\n",
       "      <td>증미역 2번 출구</td>\n",
       "      <td>Y</td>\n",
       "      <td>6.0</td>\n",
       "    </tr>\n",
       "    <tr>\n",
       "      <th>101</th>\n",
       "      <td>102</td>\n",
       "      <td>강서구</td>\n",
       "      <td>이마트 앞</td>\n",
       "      <td>증미역 1,2번 출구 사이</td>\n",
       "      <td>Y</td>\n",
       "      <td>6.0</td>\n",
       "    </tr>\n",
       "    <tr>\n",
       "      <th>102</th>\n",
       "      <td>103</td>\n",
       "      <td>강서구</td>\n",
       "      <td>마곡중앙5로 87</td>\n",
       "      <td>신방화역5, 6번 출구 사이</td>\n",
       "      <td>Y</td>\n",
       "      <td>6.0</td>\n",
       "    </tr>\n",
       "  </tbody>\n",
       "</table>\n",
       "</div>"
      ],
      "text/plain": [
       "      순번 시군구명              주소                           상세위치 거치대 유무  거치대 크기\n",
       "81    82  강서구    마곡동 727-1428                   마곡역 3번 출구 인근      N     NaN\n",
       "82    83  강서구    마곡동 727-1222                    발산역 8번 출구 앞      Y     8.0\n",
       "83    84  강서구         공항대로168                      마곡역6번출구 앞      Y     6.0\n",
       "84    85  강서구         마곡동 799       마곡역 5번 출구마곡역 /4,5번 출구 사이      Y     6.0\n",
       "85    86  강서구         마곡동 799       마곡역 4번 출구/ 출구 자전거 도로 측면       Y     6.0\n",
       "86    87  강서구        마곡중앙5로 6              마곡나루역1번 출구/출입구 측면      Y     6.0\n",
       "87    88  강서구        마곡중앙5로 6                    마곡나루역 2번 출구      Y     6.0\n",
       "88    89  강서구         마곡동 767           마곡광장 입구/입구 자전거 도로 측면      Y     6.0\n",
       "89    90  강서구      마곡나루역 4번출구             마곡나루역 4번 출구/출입구 측면      Y     6.0\n",
       "90    91  강서구       발산역 1번 출구  발산역 1번 출구/출구 바로 앞 따릉이 거치대 맞은편      Y     6.0\n",
       "91    92  강서구     발산역 3,4번 출구  발산역 3,4번 출구 사이/출구 사이 엘리베이터 측면      Y     6.0\n",
       "92    93  강서구       발산역 4번 출구       발산역 4번 출구/자전거 거치대 끝나는 부근      Y     6.0\n",
       "93    94  강서구      공항대로 227 앞               발산9번, 마곡3번 출구 사이      Y     6.0\n",
       "94    95  강서구       화곡로 416 앞                       가양역 7번출구      Y     6.0\n",
       "95    96  강서구  횡단보도와 엘리베이터 사이                 가양역8, 9번 출구 사이      Y     6.0\n",
       "96    97  강서구       8번 출입구 측면                    가양역 8번 출구 앞      Y     6.0\n",
       "97    98  강서구    빠리바게트 앞 화단 쪽                가양역 6, 7번 출구 사이      Y     6.0\n",
       "98    99  강서구       1번 출입구 측면                      등촌역 1번 출구      Y     6.0\n",
       "99   100  강서구          출입구 측면                      증미역 1번 출구      Y     6.0\n",
       "100  101  강서구          출입구 측면                      증미역 2번 출구      Y     6.0\n",
       "101  102  강서구           이마트 앞                 증미역 1,2번 출구 사이      Y     6.0\n",
       "102  103  강서구       마곡중앙5로 87                신방화역5, 6번 출구 사이      Y     6.0"
      ]
     },
     "execution_count": 3,
     "metadata": {},
     "output_type": "execute_result"
    }
   ],
   "source": [
    "parking_df[parking_df['시군구명'] == '강서구']"
   ]
  },
  {
   "cell_type": "markdown",
   "metadata": {},
   "source": [
    "도로명주소도 아니고 지번주소도 아닌 것들 존재."
   ]
  },
  {
   "cell_type": "code",
   "execution_count": null,
   "metadata": {},
   "outputs": [],
   "source": []
  },
  {
   "cell_type": "code",
   "execution_count": 4,
   "metadata": {},
   "outputs": [],
   "source": [
    "df2308 = pd.read_csv('data/서울특별시_전동킥보드_견인_현황_20230831.csv', encoding = 'cp949')"
   ]
  },
  {
   "cell_type": "code",
   "execution_count": 6,
   "metadata": {},
   "outputs": [
    {
     "data": {
      "text/plain": [
       "117583    차 도에 있는 킥신고\n",
       "117584          보행 방해\n",
       "117585         횡 단 보도\n",
       "117586         버스 정류장\n",
       "117587         횡 단 보도\n",
       "             ...     \n",
       "123722           불편신고\n",
       "123723           불편신고\n",
       "123724           불편신고\n",
       "123725           불편신고\n",
       "123726       빨리 가져가세요\n",
       "Name: 유형, Length: 6144, dtype: object"
      ]
     },
     "execution_count": 6,
     "metadata": {},
     "output_type": "execute_result"
    }
   ],
   "source": [
    "df2308[df2308['신고일'] > '2023-07-31']['유형']"
   ]
  },
  {
   "cell_type": "markdown",
   "metadata": {},
   "source": [
    "아마도 웹페이지 신고 시 '위반유형' 대신 '신고내용'을 넣은 거 아닐까..."
   ]
  },
  {
   "cell_type": "code",
   "execution_count": 7,
   "metadata": {},
   "outputs": [
    {
     "data": {
      "text/plain": [
       "유형\n",
       "통행불편           682\n",
       "불편신고           561\n",
       "차도             201\n",
       "횡단보도           173\n",
       "차도 사고위험        167\n",
       "              ... \n",
       "차도에 주차 사고위험      1\n",
       "보행 불편합니다         1\n",
       "킥보드좀 치워주세요       1\n",
       "차도 에 며칠째방치       1\n",
       "빨리 가져가세요         1\n",
       "Name: count, Length: 1455, dtype: int64"
      ]
     },
     "execution_count": 7,
     "metadata": {},
     "output_type": "execute_result"
    }
   ],
   "source": [
    "df2308[df2308['신고일'] > '2023-07-31']['유형'].value_counts()"
   ]
  },
  {
   "cell_type": "code",
   "execution_count": 8,
   "metadata": {},
   "outputs": [
    {
     "data": {
      "text/plain": [
       "유형\n",
       "통행불편           False\n",
       "불편신고           False\n",
       "차도             False\n",
       "횡단보도           False\n",
       "차도 사고위험        False\n",
       "               ...  \n",
       "차도에 주차 사고위험     True\n",
       "보행 불편합니다        True\n",
       "킥보드좀 치워주세요      True\n",
       "차도 에 며칠째방치      True\n",
       "빨리 가져가세요        True\n",
       "Name: count, Length: 1455, dtype: bool"
      ]
     },
     "execution_count": 8,
     "metadata": {},
     "output_type": "execute_result"
    }
   ],
   "source": [
    "df2308[df2308['신고일'] > '2023-07-31']['유형'].value_counts() == 1"
   ]
  },
  {
   "cell_type": "code",
   "execution_count": 11,
   "metadata": {},
   "outputs": [
    {
     "data": {
      "text/plain": [
       "1057"
      ]
     },
     "execution_count": 11,
     "metadata": {},
     "output_type": "execute_result"
    }
   ],
   "source": [
    "(df2308[df2308['신고일'] > '2023-07-31']['유형'].value_counts() == 1).sum()"
   ]
  },
  {
   "cell_type": "code",
   "execution_count": 12,
   "metadata": {},
   "outputs": [
    {
     "data": {
      "text/plain": [
       "Index(['통행불편', '불편신고', '차도', '횡단보도', '차도 사고위험', '차도 불법주차', '보행불편', '자전거도로',\n",
       "       '차도에 불법주차되어있는 퀵보드 이동좀시켜주세요', '불편 신고',\n",
       "       ...\n",
       "       '킥보드불편해요 수거 부탁 드려요', '차도 불편 신고합니다', '보드신고건물코너',\n",
       "       '인도에 불법정차중이라 사람들과 사고날 위험이 큼', '지하철 입구 바로  옆 주차 통행불편', '차도에 주차 사고위험',\n",
       "       '보행 불편합니다', '킥보드좀 치워주세요', '차도 에 며칠째방치', '빨리 가져가세요'],\n",
       "      dtype='object', name='유형', length=1455)"
      ]
     },
     "execution_count": 12,
     "metadata": {},
     "output_type": "execute_result"
    }
   ],
   "source": [
    "(df2308[df2308['신고일'] > '2023-07-31']['유형'].value_counts() == 1).index"
   ]
  },
  {
   "cell_type": "code",
   "execution_count": 15,
   "metadata": {},
   "outputs": [
    {
     "data": {
      "text/plain": [
       "117815                                             차도 신고합니다\n",
       "117854                                              횡단보도 방치\n",
       "117855                                             차도 불편합니다\n",
       "117857                                            횡단보도 매우불편\n",
       "117881                                            횡단보도 통행불편\n",
       "                                ...                        \n",
       "123477    [전화신고] ○ 요청기관: 종로구&#40;교통행정과&#41;\\n○ 민원 접수 경로:...\n",
       "123479    [전화신고] ○ 요청기관: 종로구&#40;교통행정과&#41;\\n○ 민원 접수 경로:...\n",
       "123480                                                 횡단보도\n",
       "123678                                                차도 방해\n",
       "123711                                       구청 민원 미 조치\\n와룡\n",
       "Name: 유형, Length: 120, dtype: object"
      ]
     },
     "execution_count": 15,
     "metadata": {},
     "output_type": "execute_result"
    }
   ],
   "source": [
    "df2308[(df2308['신고일'] > '2023-07-31') & (df2308['구정보'] == '종로구')]['유형']"
   ]
  },
  {
   "cell_type": "code",
   "execution_count": 16,
   "metadata": {},
   "outputs": [
    {
     "data": {
      "text/plain": [
       "117815     True\n",
       "117854    False\n",
       "117855    False\n",
       "117857    False\n",
       "117881    False\n",
       "          ...  \n",
       "123477     True\n",
       "123479     True\n",
       "123480    False\n",
       "123678    False\n",
       "123711    False\n",
       "Name: 유형, Length: 120, dtype: bool"
      ]
     },
     "execution_count": 16,
     "metadata": {},
     "output_type": "execute_result"
    }
   ],
   "source": [
    "df2308[(df2308['신고일'] > '2023-07-31') & (df2308['구정보'] == '종로구')]['유형'].str.contains('[전화신고]')"
   ]
  },
  {
   "cell_type": "code",
   "execution_count": 25,
   "metadata": {},
   "outputs": [
    {
     "data": {
      "text/plain": [
       "117815    False\n",
       "117854    False\n",
       "117855    False\n",
       "117857    False\n",
       "117881    False\n",
       "          ...  \n",
       "123477     True\n",
       "123479     True\n",
       "123480    False\n",
       "123678    False\n",
       "123711    False\n",
       "Name: 유형, Length: 120, dtype: bool"
      ]
     },
     "execution_count": 25,
     "metadata": {},
     "output_type": "execute_result"
    }
   ],
   "source": [
    "df2308[(df2308['신고일'] > '2023-07-31') & (df2308['구정보'] == '종로구')]['유형'].str.contains('민원 접수 경로')"
   ]
  },
  {
   "cell_type": "code",
   "execution_count": 28,
   "metadata": {},
   "outputs": [
    {
     "data": {
      "text/plain": [
       "118145    [전화신고] ○ 요청기관: 종로구&#40;교통행정과&#41;\\n○ 민원 접수 경로:...\n",
       "118423    [전화신고] ○ 요청기관: 종로구&#40;교통행정과&#41;\\n○ 민원 접수 경로:...\n",
       "119191    [전화신고] ○ 요청기관: 종로구&#40;교통행정과&#41;\\n○ 민원 접수 경로:...\n",
       "119335    [전화신고] ○ 요청기관: 종로구&#40;교통행정과&#41;\\n○ 민원 접수 경로:...\n",
       "120328    [전화신고] ○ 요청기관: 종로구&#40;교통행정과&#41;\\n○ 민원 접수 경로:...\n",
       "120335    [전화신고]  ○ 요청기관: 종로구&#40;교통행정과&#41; ○ 민원 접수 경로:...\n",
       "120339    [전화신고]  ○ 요청기관: 종로구&#40;교통행정과&#41; \\n○ 민원 접수 경...\n",
       "120342    [전화신고] ○ 요청기관: 종로구&#40;교통행정과&#41;\\n○ 민원 접수 경로:...\n",
       "120687    [전화신고] ○ 요청기관: 종로구&#40;교통행정과&#41;\\n○ 민원 접수 경로:...\n",
       "121083    [전화신고]  ○ 요청기관: 종로구&#40;교통행정과&#41; \\n○ 민원 접수 경...\n",
       "121686    [전화신고] ○ 요청기관: 종로구&#40;교통행정과&#41;\\n○ 민원 접수 경로:...\n",
       "121687    [전화신고] ○ 요청기관: 종로구&#40;교통행정과&#41;\\n○ 민원 접수 경로:...\n",
       "121688    [전화신고] ○ 요청기관: 종로구&#40;교통행정과&#41;\\n○ 민원 접수 경로:...\n",
       "121689    [전화신고] ○ 요청기관: 종로구&#40;교통행정과&#41;\\n○ 민원 접수 경로:...\n",
       "121703    [전화신고] ○ 요청기관: 종로구&#40;교통행정과&#41;\\n○ 민원 접수 경로:...\n",
       "122040    [전화신고] ○ 요청기관: 종로구&#40;교통행정과&#41;\\n○ 민원 접수 경로:...\n",
       "122045    [전화신고] ○ 요청기관: 종로구&#40;교통행정과&#41; \\n○ 민원 접수 경로...\n",
       "122046    [전화신고] ○ 요청기관: 종로구&#40;교통행정과&#41; \\n○ 민원 접수 경로...\n",
       "122047    [전화신고] ○ 요청기관: 종로구&#40;교통행정과&#41; \\n○ 민원 접수 경로...\n",
       "122048    [전화신고] ○ 요청기관: 종로구&#40;교통행정과&#41; \\n○ 민원 접수 경로...\n",
       "122050    [전화신고] ○ 요청기관: 종로구&#40;교통행정과&#41; \\n○ 민원 접수 경로...\n",
       "123001    [전화신고] ○ 요청기관: 종로구&#40;교통행정과&#41;\\n○ 민원 접수 경로:...\n",
       "123003    [전화신고] ○ 요청기관: 종로구&#40;교통행정과&#41;\\n○ 민원 접수 경로:...\n",
       "123004    [전화신고] ○ 요청기관: 종로구&#40;교통행정과&#41;\\n○ 민원 접수 경로:...\n",
       "123477    [전화신고] ○ 요청기관: 종로구&#40;교통행정과&#41;\\n○ 민원 접수 경로:...\n",
       "123479    [전화신고] ○ 요청기관: 종로구&#40;교통행정과&#41;\\n○ 민원 접수 경로:...\n",
       "Name: 유형, dtype: object"
      ]
     },
     "execution_count": 28,
     "metadata": {},
     "output_type": "execute_result"
    }
   ],
   "source": [
    "call_jongro_contents = df2308[(df2308['신고일'] > '2023-07-31') & (df2308['구정보'] == '종로구')]['유형'][df2308[(df2308['신고일'] > '2023-07-31') & (df2308['구정보'] == '종로구')]['유형'].str.contains('민원 접수 경로')]\n",
    "call_jongro_contents"
   ]
  },
  {
   "cell_type": "code",
   "execution_count": null,
   "metadata": {},
   "outputs": [],
   "source": []
  }
 ],
 "metadata": {
  "kernelspec": {
   "display_name": "base",
   "language": "python",
   "name": "python3"
  },
  "language_info": {
   "codemirror_mode": {
    "name": "ipython",
    "version": 3
   },
   "file_extension": ".py",
   "mimetype": "text/x-python",
   "name": "python",
   "nbconvert_exporter": "python",
   "pygments_lexer": "ipython3",
   "version": "3.11.5"
  }
 },
 "nbformat": 4,
 "nbformat_minor": 2
}
