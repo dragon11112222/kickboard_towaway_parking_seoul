{
 "cells": [
  {
   "cell_type": "code",
   "execution_count": 1,
   "metadata": {},
   "outputs": [],
   "source": [
    "import pandas as pd\n",
    "\n",
    "df2308 = pd.read_csv('data/서울특별시_전동킥보드_견인_현황_20230831.csv', encoding = 'cp949')"
   ]
  },
  {
   "cell_type": "code",
   "execution_count": 2,
   "metadata": {},
   "outputs": [
    {
     "data": {
      "text/html": [
       "<div>\n",
       "<style scoped>\n",
       "    .dataframe tbody tr th:only-of-type {\n",
       "        vertical-align: middle;\n",
       "    }\n",
       "\n",
       "    .dataframe tbody tr th {\n",
       "        vertical-align: top;\n",
       "    }\n",
       "\n",
       "    .dataframe thead th {\n",
       "        text-align: right;\n",
       "    }\n",
       "</style>\n",
       "<table border=\"1\" class=\"dataframe\">\n",
       "  <thead>\n",
       "    <tr style=\"text-align: right;\">\n",
       "      <th></th>\n",
       "      <th>번호</th>\n",
       "      <th>신고일</th>\n",
       "      <th>구정보</th>\n",
       "      <th>주소</th>\n",
       "      <th>유형</th>\n",
       "      <th>조치일</th>\n",
       "    </tr>\n",
       "  </thead>\n",
       "  <tbody>\n",
       "    <tr>\n",
       "      <th>0</th>\n",
       "      <td>1</td>\n",
       "      <td>2021-07-15</td>\n",
       "      <td>영등포구</td>\n",
       "      <td>서울특별시 영등포구 여의도동 84-10</td>\n",
       "      <td>보도와 차도가 구분된 도로의 차도</td>\n",
       "      <td>2021-07-15</td>\n",
       "    </tr>\n",
       "    <tr>\n",
       "      <th>1</th>\n",
       "      <td>2</td>\n",
       "      <td>2021-07-15</td>\n",
       "      <td>영등포구</td>\n",
       "      <td>서울특별시 영등포구 영등포동1가 97-4</td>\n",
       "      <td>보도 중앙</td>\n",
       "      <td>2021-07-15</td>\n",
       "    </tr>\n",
       "    <tr>\n",
       "      <th>2</th>\n",
       "      <td>3</td>\n",
       "      <td>2021-07-15</td>\n",
       "      <td>동작구</td>\n",
       "      <td>서울특별시 동작구 노량진동 231-2</td>\n",
       "      <td>보도와 차도가 구분된 도로의 차도</td>\n",
       "      <td>2021-07-15</td>\n",
       "    </tr>\n",
       "    <tr>\n",
       "      <th>3</th>\n",
       "      <td>4</td>\n",
       "      <td>2021-07-15</td>\n",
       "      <td>동작구</td>\n",
       "      <td>서울특별시 동작구 노량진동 54-3</td>\n",
       "      <td>버스정류장, 택시 승강장</td>\n",
       "      <td>2021-07-15</td>\n",
       "    </tr>\n",
       "    <tr>\n",
       "      <th>4</th>\n",
       "      <td>5</td>\n",
       "      <td>2021-07-15</td>\n",
       "      <td>동작구</td>\n",
       "      <td>서울특별시 동작구 신대방동 460-30</td>\n",
       "      <td>보도와 차도가 구분된 도로의 차도</td>\n",
       "      <td>2021-07-15</td>\n",
       "    </tr>\n",
       "  </tbody>\n",
       "</table>\n",
       "</div>"
      ],
      "text/plain": [
       "   번호         신고일   구정보                      주소                  유형  \\\n",
       "0   1  2021-07-15  영등포구   서울특별시 영등포구 여의도동 84-10  보도와 차도가 구분된 도로의 차도   \n",
       "1   2  2021-07-15  영등포구  서울특별시 영등포구 영등포동1가 97-4               보도 중앙   \n",
       "2   3  2021-07-15   동작구    서울특별시 동작구 노량진동 231-2  보도와 차도가 구분된 도로의 차도   \n",
       "3   4  2021-07-15   동작구     서울특별시 동작구 노량진동 54-3       버스정류장, 택시 승강장   \n",
       "4   5  2021-07-15   동작구   서울특별시 동작구 신대방동 460-30  보도와 차도가 구분된 도로의 차도   \n",
       "\n",
       "          조치일  \n",
       "0  2021-07-15  \n",
       "1  2021-07-15  \n",
       "2  2021-07-15  \n",
       "3  2021-07-15  \n",
       "4  2021-07-15  "
      ]
     },
     "execution_count": 2,
     "metadata": {},
     "output_type": "execute_result"
    }
   ],
   "source": [
    "df2308.head()"
   ]
  },
  {
   "cell_type": "code",
   "execution_count": 3,
   "metadata": {},
   "outputs": [
    {
     "name": "stdout",
     "output_type": "stream",
     "text": [
      "<class 'pandas.core.frame.DataFrame'>\n",
      "RangeIndex: 123727 entries, 0 to 123726\n",
      "Data columns (total 6 columns):\n",
      " #   Column  Non-Null Count   Dtype \n",
      "---  ------  --------------   ----- \n",
      " 0   번호      123727 non-null  int64 \n",
      " 1   신고일     123727 non-null  object\n",
      " 2   구정보     123727 non-null  object\n",
      " 3   주소      123727 non-null  object\n",
      " 4   유형      123726 non-null  object\n",
      " 5   조치일     123726 non-null  object\n",
      "dtypes: int64(1), object(5)\n",
      "memory usage: 5.7+ MB\n"
     ]
    }
   ],
   "source": [
    "df2308.info()"
   ]
  },
  {
   "cell_type": "markdown",
   "metadata": {},
   "source": [
    "유형 칼럼과 조치일 칼럼에 결측치 하나씩 존재. 확인 필요."
   ]
  },
  {
   "cell_type": "code",
   "execution_count": 4,
   "metadata": {},
   "outputs": [
    {
     "data": {
      "text/html": [
       "<div>\n",
       "<style scoped>\n",
       "    .dataframe tbody tr th:only-of-type {\n",
       "        vertical-align: middle;\n",
       "    }\n",
       "\n",
       "    .dataframe tbody tr th {\n",
       "        vertical-align: top;\n",
       "    }\n",
       "\n",
       "    .dataframe thead th {\n",
       "        text-align: right;\n",
       "    }\n",
       "</style>\n",
       "<table border=\"1\" class=\"dataframe\">\n",
       "  <thead>\n",
       "    <tr style=\"text-align: right;\">\n",
       "      <th></th>\n",
       "      <th>번호</th>\n",
       "      <th>신고일</th>\n",
       "      <th>구정보</th>\n",
       "      <th>주소</th>\n",
       "      <th>유형</th>\n",
       "      <th>조치일</th>\n",
       "    </tr>\n",
       "  </thead>\n",
       "  <tbody>\n",
       "    <tr>\n",
       "      <th>2815</th>\n",
       "      <td>2816</td>\n",
       "      <td>2021-08-17</td>\n",
       "      <td>관악구</td>\n",
       "      <td>서울특별시 관악구 신림동 1467-10</td>\n",
       "      <td>NaN</td>\n",
       "      <td>NaN</td>\n",
       "    </tr>\n",
       "  </tbody>\n",
       "</table>\n",
       "</div>"
      ],
      "text/plain": [
       "        번호         신고일  구정보                     주소   유형  조치일\n",
       "2815  2816  2021-08-17  관악구  서울특별시 관악구 신림동 1467-10  NaN  NaN"
      ]
     },
     "execution_count": 4,
     "metadata": {},
     "output_type": "execute_result"
    }
   ],
   "source": [
    "df2308[df2308['유형'].isnull()]"
   ]
  },
  {
   "cell_type": "markdown",
   "metadata": {},
   "source": [
    "결측치 제거"
   ]
  },
  {
   "cell_type": "code",
   "execution_count": 5,
   "metadata": {},
   "outputs": [],
   "source": [
    "df2308.dropna(inplace=True)"
   ]
  },
  {
   "cell_type": "markdown",
   "metadata": {},
   "source": [
    "사라진 거 확인"
   ]
  },
  {
   "cell_type": "code",
   "execution_count": 6,
   "metadata": {},
   "outputs": [
    {
     "name": "stdout",
     "output_type": "stream",
     "text": [
      "<class 'pandas.core.frame.DataFrame'>\n",
      "Index: 123726 entries, 0 to 123726\n",
      "Data columns (total 6 columns):\n",
      " #   Column  Non-Null Count   Dtype \n",
      "---  ------  --------------   ----- \n",
      " 0   번호      123726 non-null  int64 \n",
      " 1   신고일     123726 non-null  object\n",
      " 2   구정보     123726 non-null  object\n",
      " 3   주소      123726 non-null  object\n",
      " 4   유형      123726 non-null  object\n",
      " 5   조치일     123726 non-null  object\n",
      "dtypes: int64(1), object(5)\n",
      "memory usage: 6.6+ MB\n"
     ]
    }
   ],
   "source": [
    "df2308.info()"
   ]
  },
  {
   "cell_type": "code",
   "execution_count": null,
   "metadata": {},
   "outputs": [],
   "source": []
  }
 ],
 "metadata": {
  "kernelspec": {
   "display_name": "base",
   "language": "python",
   "name": "python3"
  },
  "language_info": {
   "codemirror_mode": {
    "name": "ipython",
    "version": 3
   },
   "file_extension": ".py",
   "mimetype": "text/x-python",
   "name": "python",
   "nbconvert_exporter": "python",
   "pygments_lexer": "ipython3",
   "version": "3.11.5"
  }
 },
 "nbformat": 4,
 "nbformat_minor": 2
}
